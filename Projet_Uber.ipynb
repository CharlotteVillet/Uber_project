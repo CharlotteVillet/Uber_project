{
 "cells": [
  {
   "cell_type": "markdown",
   "metadata": {},
   "source": [
    "# UBER Pickups"
   ]
  },
  {
   "cell_type": "markdown",
   "metadata": {},
   "source": [
    "One of the main pain point that Uber's team found is that sometimes drivers are not around when users need them. For example, a user might be in San Francisco's Financial District whereas Uber drivers are looking for customers in Castro. \n",
    "Eventhough both neighborhood are not that far away, users would still have to wait 10 to 15 minutes before being picked-up, which is too long. Uber's research shows that users accept to wait 5-7 minutes, otherwise they would cancel their ride.\n",
    "\n",
    "Therefore, Uber's data team would like to work on a project where their app would recommend hot-zones in major cities to be in at any given time of day.\n",
    "\n",
    "To start off, Uber wants to try this feature in New York city. Therefore we will only focus on this city."
   ]
  },
  {
   "cell_type": "markdown",
   "metadata": {},
   "source": [
    "## Part 1 : EDA"
   ]
  },
  {
   "cell_type": "code",
   "execution_count": 1,
   "metadata": {},
   "outputs": [],
   "source": [
    "# Import useful libraries\n",
    "\n",
    "import pandas as pd\n",
    "import numpy as np\n",
    "import datetime\n",
    "from sklearn.pipeline import Pipeline\n",
    "from sklearn.preprocessing import  OneHotEncoder, StandardScaler\n",
    "from sklearn.compose import ColumnTransformer\n",
    "from sklearn.cluster import KMeans, DBSCAN\n",
    "from sklearn.metrics import  silhouette_score\n",
    "import seaborn as sns\n",
    "import matplotlib.pyplot as plt \n",
    "! pip install plotly -q\n",
    "import plotly.graph_objects as go\n",
    "import plotly.express as px\n",
    "from plotly.subplots import make_subplots\n",
    "import plotly.io as pio\n",
    "pio.renderers.default = \"iframe_connected\""
   ]
  },
  {
   "cell_type": "code",
   "execution_count": 2,
   "metadata": {},
   "outputs": [
    {
     "name": "stdout",
     "output_type": "stream",
     "text": [
      "Loading dataset...\n",
      "...Done.\n",
      "\n"
     ]
    },
    {
     "data": {
      "text/html": [
       "<div>\n",
       "<style scoped>\n",
       "    .dataframe tbody tr th:only-of-type {\n",
       "        vertical-align: middle;\n",
       "    }\n",
       "\n",
       "    .dataframe tbody tr th {\n",
       "        vertical-align: top;\n",
       "    }\n",
       "\n",
       "    .dataframe thead th {\n",
       "        text-align: right;\n",
       "    }\n",
       "</style>\n",
       "<table border=\"1\" class=\"dataframe\">\n",
       "  <thead>\n",
       "    <tr style=\"text-align: right;\">\n",
       "      <th></th>\n",
       "      <th>Date/Time</th>\n",
       "      <th>Lat</th>\n",
       "      <th>Lon</th>\n",
       "      <th>Base</th>\n",
       "    </tr>\n",
       "  </thead>\n",
       "  <tbody>\n",
       "    <tr>\n",
       "      <th>0</th>\n",
       "      <td>4/1/2014 0:11:00</td>\n",
       "      <td>40.7690</td>\n",
       "      <td>-73.9549</td>\n",
       "      <td>B02512</td>\n",
       "    </tr>\n",
       "    <tr>\n",
       "      <th>1</th>\n",
       "      <td>4/1/2014 0:17:00</td>\n",
       "      <td>40.7267</td>\n",
       "      <td>-74.0345</td>\n",
       "      <td>B02512</td>\n",
       "    </tr>\n",
       "    <tr>\n",
       "      <th>2</th>\n",
       "      <td>4/1/2014 0:21:00</td>\n",
       "      <td>40.7316</td>\n",
       "      <td>-73.9873</td>\n",
       "      <td>B02512</td>\n",
       "    </tr>\n",
       "    <tr>\n",
       "      <th>3</th>\n",
       "      <td>4/1/2014 0:28:00</td>\n",
       "      <td>40.7588</td>\n",
       "      <td>-73.9776</td>\n",
       "      <td>B02512</td>\n",
       "    </tr>\n",
       "    <tr>\n",
       "      <th>4</th>\n",
       "      <td>4/1/2014 0:33:00</td>\n",
       "      <td>40.7594</td>\n",
       "      <td>-73.9722</td>\n",
       "      <td>B02512</td>\n",
       "    </tr>\n",
       "  </tbody>\n",
       "</table>\n",
       "</div>"
      ],
      "text/plain": [
       "          Date/Time      Lat      Lon    Base\n",
       "0  4/1/2014 0:11:00  40.7690 -73.9549  B02512\n",
       "1  4/1/2014 0:17:00  40.7267 -74.0345  B02512\n",
       "2  4/1/2014 0:21:00  40.7316 -73.9873  B02512\n",
       "3  4/1/2014 0:28:00  40.7588 -73.9776  B02512\n",
       "4  4/1/2014 0:33:00  40.7594 -73.9722  B02512"
      ]
     },
     "execution_count": 2,
     "metadata": {},
     "output_type": "execute_result"
    }
   ],
   "source": [
    "# Read the file\n",
    "\n",
    "print(\"Loading dataset...\")\n",
    "df = pd.read_csv(\"uber-raw-data-apr14.csv\")\n",
    "print(\"...Done.\")\n",
    "print()\n",
    "df.head()"
   ]
  },
  {
   "cell_type": "code",
   "execution_count": 3,
   "metadata": {},
   "outputs": [
    {
     "name": "stdout",
     "output_type": "stream",
     "text": [
      "Number of rows : 564516\n",
      "\n",
      "Number of columns : 4\n",
      "\n",
      "Basics statistics: \n"
     ]
    },
    {
     "data": {
      "text/html": [
       "<div>\n",
       "<style scoped>\n",
       "    .dataframe tbody tr th:only-of-type {\n",
       "        vertical-align: middle;\n",
       "    }\n",
       "\n",
       "    .dataframe tbody tr th {\n",
       "        vertical-align: top;\n",
       "    }\n",
       "\n",
       "    .dataframe thead th {\n",
       "        text-align: right;\n",
       "    }\n",
       "</style>\n",
       "<table border=\"1\" class=\"dataframe\">\n",
       "  <thead>\n",
       "    <tr style=\"text-align: right;\">\n",
       "      <th></th>\n",
       "      <th>Date/Time</th>\n",
       "      <th>Lat</th>\n",
       "      <th>Lon</th>\n",
       "      <th>Base</th>\n",
       "    </tr>\n",
       "  </thead>\n",
       "  <tbody>\n",
       "    <tr>\n",
       "      <th>count</th>\n",
       "      <td>564516</td>\n",
       "      <td>564516.000000</td>\n",
       "      <td>564516.000000</td>\n",
       "      <td>564516</td>\n",
       "    </tr>\n",
       "    <tr>\n",
       "      <th>unique</th>\n",
       "      <td>41999</td>\n",
       "      <td>NaN</td>\n",
       "      <td>NaN</td>\n",
       "      <td>5</td>\n",
       "    </tr>\n",
       "    <tr>\n",
       "      <th>top</th>\n",
       "      <td>4/7/2014 20:21:00</td>\n",
       "      <td>NaN</td>\n",
       "      <td>NaN</td>\n",
       "      <td>B02682</td>\n",
       "    </tr>\n",
       "    <tr>\n",
       "      <th>freq</th>\n",
       "      <td>97</td>\n",
       "      <td>NaN</td>\n",
       "      <td>NaN</td>\n",
       "      <td>227808</td>\n",
       "    </tr>\n",
       "    <tr>\n",
       "      <th>mean</th>\n",
       "      <td>NaN</td>\n",
       "      <td>40.740005</td>\n",
       "      <td>-73.976817</td>\n",
       "      <td>NaN</td>\n",
       "    </tr>\n",
       "    <tr>\n",
       "      <th>std</th>\n",
       "      <td>NaN</td>\n",
       "      <td>0.036083</td>\n",
       "      <td>0.050426</td>\n",
       "      <td>NaN</td>\n",
       "    </tr>\n",
       "    <tr>\n",
       "      <th>min</th>\n",
       "      <td>NaN</td>\n",
       "      <td>40.072900</td>\n",
       "      <td>-74.773300</td>\n",
       "      <td>NaN</td>\n",
       "    </tr>\n",
       "    <tr>\n",
       "      <th>25%</th>\n",
       "      <td>NaN</td>\n",
       "      <td>40.722500</td>\n",
       "      <td>-73.997700</td>\n",
       "      <td>NaN</td>\n",
       "    </tr>\n",
       "    <tr>\n",
       "      <th>50%</th>\n",
       "      <td>NaN</td>\n",
       "      <td>40.742500</td>\n",
       "      <td>-73.984800</td>\n",
       "      <td>NaN</td>\n",
       "    </tr>\n",
       "    <tr>\n",
       "      <th>75%</th>\n",
       "      <td>NaN</td>\n",
       "      <td>40.760700</td>\n",
       "      <td>-73.970000</td>\n",
       "      <td>NaN</td>\n",
       "    </tr>\n",
       "    <tr>\n",
       "      <th>max</th>\n",
       "      <td>NaN</td>\n",
       "      <td>42.116600</td>\n",
       "      <td>-72.066600</td>\n",
       "      <td>NaN</td>\n",
       "    </tr>\n",
       "  </tbody>\n",
       "</table>\n",
       "</div>"
      ],
      "text/plain": [
       "                Date/Time            Lat            Lon    Base\n",
       "count              564516  564516.000000  564516.000000  564516\n",
       "unique              41999            NaN            NaN       5\n",
       "top     4/7/2014 20:21:00            NaN            NaN  B02682\n",
       "freq                   97            NaN            NaN  227808\n",
       "mean                  NaN      40.740005     -73.976817     NaN\n",
       "std                   NaN       0.036083       0.050426     NaN\n",
       "min                   NaN      40.072900     -74.773300     NaN\n",
       "25%                   NaN      40.722500     -73.997700     NaN\n",
       "50%                   NaN      40.742500     -73.984800     NaN\n",
       "75%                   NaN      40.760700     -73.970000     NaN\n",
       "max                   NaN      42.116600     -72.066600     NaN"
      ]
     },
     "metadata": {},
     "output_type": "display_data"
    },
    {
     "name": "stdout",
     "output_type": "stream",
     "text": [
      "\n",
      "Percentage of missing values: \n",
      "\n"
     ]
    },
    {
     "data": {
      "text/plain": [
       "Date/Time    0.0\n",
       "Lat          0.0\n",
       "Lon          0.0\n",
       "Base         0.0\n",
       "dtype: float64"
      ]
     },
     "metadata": {},
     "output_type": "display_data"
    }
   ],
   "source": [
    "# Basics statistics\n",
    "\n",
    "print(\"Number of rows : {}\".format(df.shape[0]))\n",
    "print()\n",
    "\n",
    "print(\"Number of columns : {}\".format(df.shape[1]))\n",
    "print()\n",
    "\n",
    "print(\"Basics statistics: \")\n",
    "df_desc = df.describe(include='all')\n",
    "display(df_desc)\n",
    "print()\n",
    "\n",
    "print(\"Percentage of missing values: \")\n",
    "print()\n",
    "display(100*df.isnull().sum()/df.shape[0])"
   ]
  },
  {
   "cell_type": "code",
   "execution_count": 4,
   "metadata": {},
   "outputs": [
    {
     "name": "stdout",
     "output_type": "stream",
     "text": [
      "Dropping column...\n",
      "...Done.\n",
      "\n"
     ]
    },
    {
     "data": {
      "text/html": [
       "<div>\n",
       "<style scoped>\n",
       "    .dataframe tbody tr th:only-of-type {\n",
       "        vertical-align: middle;\n",
       "    }\n",
       "\n",
       "    .dataframe tbody tr th {\n",
       "        vertical-align: top;\n",
       "    }\n",
       "\n",
       "    .dataframe thead th {\n",
       "        text-align: right;\n",
       "    }\n",
       "</style>\n",
       "<table border=\"1\" class=\"dataframe\">\n",
       "  <thead>\n",
       "    <tr style=\"text-align: right;\">\n",
       "      <th></th>\n",
       "      <th>Date/Time</th>\n",
       "      <th>Lat</th>\n",
       "      <th>Lon</th>\n",
       "    </tr>\n",
       "  </thead>\n",
       "  <tbody>\n",
       "    <tr>\n",
       "      <th>0</th>\n",
       "      <td>4/1/2014 0:11:00</td>\n",
       "      <td>40.7690</td>\n",
       "      <td>-73.9549</td>\n",
       "    </tr>\n",
       "    <tr>\n",
       "      <th>1</th>\n",
       "      <td>4/1/2014 0:17:00</td>\n",
       "      <td>40.7267</td>\n",
       "      <td>-74.0345</td>\n",
       "    </tr>\n",
       "    <tr>\n",
       "      <th>2</th>\n",
       "      <td>4/1/2014 0:21:00</td>\n",
       "      <td>40.7316</td>\n",
       "      <td>-73.9873</td>\n",
       "    </tr>\n",
       "    <tr>\n",
       "      <th>3</th>\n",
       "      <td>4/1/2014 0:28:00</td>\n",
       "      <td>40.7588</td>\n",
       "      <td>-73.9776</td>\n",
       "    </tr>\n",
       "    <tr>\n",
       "      <th>4</th>\n",
       "      <td>4/1/2014 0:33:00</td>\n",
       "      <td>40.7594</td>\n",
       "      <td>-73.9722</td>\n",
       "    </tr>\n",
       "  </tbody>\n",
       "</table>\n",
       "</div>"
      ],
      "text/plain": [
       "          Date/Time      Lat      Lon\n",
       "0  4/1/2014 0:11:00  40.7690 -73.9549\n",
       "1  4/1/2014 0:17:00  40.7267 -74.0345\n",
       "2  4/1/2014 0:21:00  40.7316 -73.9873\n",
       "3  4/1/2014 0:28:00  40.7588 -73.9776\n",
       "4  4/1/2014 0:33:00  40.7594 -73.9722"
      ]
     },
     "execution_count": 4,
     "metadata": {},
     "output_type": "execute_result"
    }
   ],
   "source": [
    "# Decide not keep column \"Base\" to only focus on Date and Time\n",
    "\n",
    "useless_cols = ['Base']\n",
    "print(\"Dropping column...\")\n",
    "df = df.drop(useless_cols, axis=1)\n",
    "print(\"...Done.\")\n",
    "print()\n",
    "df.head()"
   ]
  },
  {
   "cell_type": "code",
   "execution_count": 5,
   "metadata": {},
   "outputs": [
    {
     "name": "stdout",
     "output_type": "stream",
     "text": [
      "Convert to datetime ...\n",
      "... Done\n",
      "Extracting hour ...\n",
      "... Done\n",
      "Extract day of week ...\n",
      "... Done\n",
      "Drop colonne Date/Time ...\n",
      "...Done\n"
     ]
    },
    {
     "data": {
      "text/html": [
       "<div>\n",
       "<style scoped>\n",
       "    .dataframe tbody tr th:only-of-type {\n",
       "        vertical-align: middle;\n",
       "    }\n",
       "\n",
       "    .dataframe tbody tr th {\n",
       "        vertical-align: top;\n",
       "    }\n",
       "\n",
       "    .dataframe thead th {\n",
       "        text-align: right;\n",
       "    }\n",
       "</style>\n",
       "<table border=\"1\" class=\"dataframe\">\n",
       "  <thead>\n",
       "    <tr style=\"text-align: right;\">\n",
       "      <th></th>\n",
       "      <th>Lat</th>\n",
       "      <th>Lon</th>\n",
       "      <th>Hour</th>\n",
       "      <th>DayOfWeek</th>\n",
       "    </tr>\n",
       "  </thead>\n",
       "  <tbody>\n",
       "    <tr>\n",
       "      <th>0</th>\n",
       "      <td>40.7690</td>\n",
       "      <td>-73.9549</td>\n",
       "      <td>0</td>\n",
       "      <td>1</td>\n",
       "    </tr>\n",
       "    <tr>\n",
       "      <th>1</th>\n",
       "      <td>40.7267</td>\n",
       "      <td>-74.0345</td>\n",
       "      <td>0</td>\n",
       "      <td>1</td>\n",
       "    </tr>\n",
       "    <tr>\n",
       "      <th>2</th>\n",
       "      <td>40.7316</td>\n",
       "      <td>-73.9873</td>\n",
       "      <td>0</td>\n",
       "      <td>1</td>\n",
       "    </tr>\n",
       "    <tr>\n",
       "      <th>3</th>\n",
       "      <td>40.7588</td>\n",
       "      <td>-73.9776</td>\n",
       "      <td>0</td>\n",
       "      <td>1</td>\n",
       "    </tr>\n",
       "    <tr>\n",
       "      <th>4</th>\n",
       "      <td>40.7594</td>\n",
       "      <td>-73.9722</td>\n",
       "      <td>0</td>\n",
       "      <td>1</td>\n",
       "    </tr>\n",
       "  </tbody>\n",
       "</table>\n",
       "</div>"
      ],
      "text/plain": [
       "       Lat      Lon  Hour  DayOfWeek\n",
       "0  40.7690 -73.9549     0          1\n",
       "1  40.7267 -74.0345     0          1\n",
       "2  40.7316 -73.9873     0          1\n",
       "3  40.7588 -73.9776     0          1\n",
       "4  40.7594 -73.9722     0          1"
      ]
     },
     "execution_count": 5,
     "metadata": {},
     "output_type": "execute_result"
    }
   ],
   "source": [
    "#Creation of new columns from the 'Date/Time' column for data processing\n",
    "#Extraction day of week and hour but not year and month since all data are in April 2014\n",
    "#Drop column \"Date/Time\"\n",
    "\n",
    "print(\"Convert to datetime ...\")\n",
    "df['Date/Time']= pd.to_datetime(df['Date/Time']) \n",
    "print(\"... Done\")\n",
    "\n",
    "print(\"Extracting hour ...\")\n",
    "df['Hour'] = df['Date/Time'].dt.hour\n",
    "print(\"... Done\")\n",
    "\n",
    "print(\"Extract day of week ...\")\n",
    "df['DayOfWeek'] = df['Date/Time'].dt.weekday\n",
    "print(\"... Done\")\n",
    "\n",
    "print(\"Drop colonne Date/Time ...\")\n",
    "df = df.drop(columns=[\"Date/Time\"])\n",
    "print(\"...Done\")\n",
    "\n",
    "df.head()"
   ]
  },
  {
   "cell_type": "code",
   "execution_count": 6,
   "metadata": {},
   "outputs": [
    {
     "data": {
      "text/html": [
       "<iframe\n",
       "    scrolling=\"no\"\n",
       "    width=\"100%\"\n",
       "    height=\"1020\"\n",
       "    src=\"iframe_figures/figure_6.html\"\n",
       "    frameborder=\"0\"\n",
       "    allowfullscreen\n",
       "></iframe>\n"
      ]
     },
     "metadata": {},
     "output_type": "display_data"
    }
   ],
   "source": [
    "# Distribution of variables\n",
    "\n",
    "features = [\"DayOfWeek\", \"Hour\"]\n",
    "fig1 = make_subplots(rows = len(features), cols = 1, subplot_titles = features)\n",
    "for i in range(len(features)):\n",
    "    fig1.add_trace(\n",
    "        go.Histogram(\n",
    "            x = df[features[i]], nbinsx = 50),\n",
    "        row = i + 1,\n",
    "        col = 1)\n",
    "fig1.update_layout(\n",
    "        title = go.layout.Title(text = \"Distribution of variables\", x = 0.5), showlegend = False, \n",
    "            autosize=True, height=1000)\n",
    "fig1.show()"
   ]
  },
  {
   "cell_type": "code",
   "execution_count": 7,
   "metadata": {},
   "outputs": [
    {
     "data": {
      "text/html": [
       "<iframe\n",
       "    scrolling=\"no\"\n",
       "    width=\"100%\"\n",
       "    height=\"545px\"\n",
       "    src=\"iframe_figures/figure_7.html\"\n",
       "    frameborder=\"0\"\n",
       "    allowfullscreen\n",
       "></iframe>\n"
      ]
     },
     "metadata": {},
     "output_type": "display_data"
    }
   ],
   "source": [
    "# Using plotly scatter mapbox, visualize all data points on a map\n",
    "\n",
    "fig = px.scatter_mapbox(\n",
    "        df, \n",
    "        lat=\"Lat\", \n",
    "        lon=\"Lon\",\n",
    "        color=\"DayOfWeek\",\n",
    "        mapbox_style=\"carto-positron\",\n",
    "        zoom = 8\n",
    ")\n",
    "\n",
    "fig.show()"
   ]
  },
  {
   "cell_type": "markdown",
   "metadata": {},
   "source": [
    "For this analysis, I started by studying one day at a specific time to hope to be able to generalize my approach.\n",
    "\n",
    "The graph shows that 17 hours is the time when there are the most pickups, so it is on this schedule that my analysis will be based.\n",
    "\n",
    "The dataset is quite big with 564 516 lines so I took a sample of the dataset with 10 000 lines before making any data processing !"
   ]
  },
  {
   "cell_type": "markdown",
   "metadata": {},
   "source": [
    "## Part 2 : Clustering with KMeans for monday at 17H"
   ]
  },
  {
   "cell_type": "code",
   "execution_count": 8,
   "metadata": {},
   "outputs": [],
   "source": [
    "df_monday = df.sample(10000, random_state=0)\n",
    "df_monday = df_monday[df_monday['DayOfWeek']== 0]\n",
    "df_monday = df_monday[df_monday['Hour']== 17]"
   ]
  },
  {
   "cell_type": "code",
   "execution_count": 9,
   "metadata": {},
   "outputs": [
    {
     "data": {
      "text/html": [
       "<div>\n",
       "<style scoped>\n",
       "    .dataframe tbody tr th:only-of-type {\n",
       "        vertical-align: middle;\n",
       "    }\n",
       "\n",
       "    .dataframe tbody tr th {\n",
       "        vertical-align: top;\n",
       "    }\n",
       "\n",
       "    .dataframe thead th {\n",
       "        text-align: right;\n",
       "    }\n",
       "</style>\n",
       "<table border=\"1\" class=\"dataframe\">\n",
       "  <thead>\n",
       "    <tr style=\"text-align: right;\">\n",
       "      <th></th>\n",
       "      <th>Lat</th>\n",
       "      <th>Lon</th>\n",
       "      <th>Hour</th>\n",
       "      <th>DayOfWeek</th>\n",
       "    </tr>\n",
       "  </thead>\n",
       "  <tbody>\n",
       "    <tr>\n",
       "      <th>477996</th>\n",
       "      <td>40.7436</td>\n",
       "      <td>-73.9790</td>\n",
       "      <td>17</td>\n",
       "      <td>0</td>\n",
       "    </tr>\n",
       "    <tr>\n",
       "      <th>267987</th>\n",
       "      <td>40.7118</td>\n",
       "      <td>-74.0066</td>\n",
       "      <td>17</td>\n",
       "      <td>0</td>\n",
       "    </tr>\n",
       "    <tr>\n",
       "      <th>531289</th>\n",
       "      <td>40.7429</td>\n",
       "      <td>-73.9948</td>\n",
       "      <td>17</td>\n",
       "      <td>0</td>\n",
       "    </tr>\n",
       "    <tr>\n",
       "      <th>478114</th>\n",
       "      <td>40.7065</td>\n",
       "      <td>-73.9310</td>\n",
       "      <td>17</td>\n",
       "      <td>0</td>\n",
       "    </tr>\n",
       "    <tr>\n",
       "      <th>380970</th>\n",
       "      <td>40.7299</td>\n",
       "      <td>-73.9930</td>\n",
       "      <td>17</td>\n",
       "      <td>0</td>\n",
       "    </tr>\n",
       "  </tbody>\n",
       "</table>\n",
       "</div>"
      ],
      "text/plain": [
       "            Lat      Lon  Hour  DayOfWeek\n",
       "477996  40.7436 -73.9790    17          0\n",
       "267987  40.7118 -74.0066    17          0\n",
       "531289  40.7429 -73.9948    17          0\n",
       "478114  40.7065 -73.9310    17          0\n",
       "380970  40.7299 -73.9930    17          0"
      ]
     },
     "execution_count": 9,
     "metadata": {},
     "output_type": "execute_result"
    }
   ],
   "source": [
    "df_monday.head()"
   ]
  },
  {
   "cell_type": "code",
   "execution_count": 10,
   "metadata": {},
   "outputs": [
    {
     "data": {
      "text/plain": [
       "(95, 4)"
      ]
     },
     "execution_count": 10,
     "metadata": {},
     "output_type": "execute_result"
    }
   ],
   "source": [
    "df_monday.shape"
   ]
  },
  {
   "cell_type": "code",
   "execution_count": 11,
   "metadata": {},
   "outputs": [
    {
     "name": "stdout",
     "output_type": "stream",
     "text": [
      "Creating numeric pipeline...\n",
      "... Done\n",
      "Creating categorical pipeline...\n",
      "... Done\n",
      "\n",
      "Preprocessing sur le train set...\n",
      "\n",
      "            Lat      Lon  Hour  DayOfWeek\n",
      "477996  40.7436 -73.9790    17          0\n",
      "267987  40.7118 -74.0066    17          0\n",
      "531289  40.7429 -73.9948    17          0\n",
      "478114  40.7065 -73.9310    17          0\n",
      "380970  40.7299 -73.9930    17          0\n",
      "\n",
      "...Done.\n",
      "\n",
      "[[-0.00896085 -0.03209147  0.        ]\n",
      " [-1.26806387 -0.50374966  0.        ]\n",
      " [-0.03667695 -0.30209869  0.        ]\n",
      " [-1.47791437  0.78818365  0.        ]\n",
      " [-0.5514046  -0.27133837  0.        ]]\n",
      "\n"
     ]
    }
   ],
   "source": [
    "# Create pipeline for numeric features\n",
    "\n",
    "print(\"Creating numeric pipeline...\")\n",
    "numeric_features = [0,1,2] \n",
    "numeric_transformer = Pipeline(steps=[ ('scaler', StandardScaler())])\n",
    "print(\"... Done\")\n",
    "\n",
    "# Create pipeline for categorical features\n",
    "\n",
    "print(\"Creating categorical pipeline...\")\n",
    "categorical_features = [3]\n",
    "categorical_transformer = Pipeline(\n",
    "    steps=[('encoder', OneHotEncoder(drop='first'))])\n",
    "print(\"... Done\")\n",
    "\n",
    "# Use ColumnTransformer\n",
    "\n",
    "preprocessor = ColumnTransformer(\n",
    "    transformers=[\n",
    "        ('num', numeric_transformer, numeric_features),\n",
    "        ('cat', categorical_transformer, categorical_features)  \n",
    "    ])\n",
    "\n",
    "# Preprocessings on dataset\n",
    "print()\n",
    "print(\"Preprocessing sur le train set...\")\n",
    "print()\n",
    "print(df_monday.head())\n",
    "X = preprocessor.fit_transform(df_monday)\n",
    "print()\n",
    "print('...Done.')\n",
    "print()\n",
    "print(X[0:5, :])\n",
    "print()"
   ]
  },
  {
   "cell_type": "code",
   "execution_count": 12,
   "metadata": {},
   "outputs": [
    {
     "name": "stdout",
     "output_type": "stream",
     "text": [
      "WCSS for K=2 --> 116.81501638667395\n",
      "WCSS for K=3 --> 60.93353017168727\n",
      "WCSS for K=4 --> 39.73011049964254\n",
      "WCSS for K=5 --> 27.04116311949092\n",
      "WCSS for K=6 --> 19.02354733742236\n",
      "WCSS for K=7 --> 13.891484892228991\n",
      "WCSS for K=8 --> 10.637693355965547\n",
      "WCSS for K=9 --> 7.599644376320941\n",
      "WCSS for K=10 --> 5.805632374706117\n",
      "WCSS for K=11 --> 5.002954320284434\n",
      "WCSS for K=12 --> 4.087405528247166\n",
      "WCSS for K=13 --> 3.720662231816298\n",
      "WCSS for K=14 --> 3.2299002495973728\n"
     ]
    }
   ],
   "source": [
    "# Use the Elbow method to find the optimal number of clusters\n",
    "\n",
    "wcss =  []\n",
    "k = []\n",
    "for i in range (2,15): \n",
    "    kmeans = KMeans(n_clusters= i, random_state = 0)\n",
    "    kmeans.fit(X)\n",
    "    wcss.append(kmeans.inertia_)\n",
    "    k.append(i)\n",
    "    print(\"WCSS for K={} --> {}\".format(i, wcss[-1]))"
   ]
  },
  {
   "cell_type": "code",
   "execution_count": 13,
   "metadata": {},
   "outputs": [
    {
     "data": {
      "text/html": [
       "<iframe\n",
       "    scrolling=\"no\"\n",
       "    width=\"100%\"\n",
       "    height=\"545px\"\n",
       "    src=\"iframe_figures/figure_13.html\"\n",
       "    frameborder=\"0\"\n",
       "    allowfullscreen\n",
       "></iframe>\n"
      ]
     },
     "metadata": {},
     "output_type": "display_data"
    }
   ],
   "source": [
    "# Create DataFrame\n",
    "wcss_frame = pd.DataFrame(wcss)\n",
    "k_frame = pd.Series(k)\n",
    "\n",
    "# Create figure\n",
    "fig= px.line(\n",
    "    wcss_frame,\n",
    "    x=k_frame,\n",
    "    y=wcss_frame.iloc[:,-1]\n",
    ")\n",
    "\n",
    "# Create title and axis labels\n",
    "fig.update_layout(\n",
    "    yaxis_title=\"Inertia\",\n",
    "    xaxis_title=\"# Clusters\",\n",
    "    title=\"Inertia per cluster\"\n",
    ")\n",
    "\n",
    "fig.show()"
   ]
  },
  {
   "cell_type": "markdown",
   "metadata": {},
   "source": [
    "As we can see, after K=10 WCSS is not decreasing a whole lot. The optimal nomber of clusters seems to be 10. Let's verify with the silhouette method."
   ]
  },
  {
   "cell_type": "code",
   "execution_count": 14,
   "metadata": {},
   "outputs": [
    {
     "name": "stdout",
     "output_type": "stream",
     "text": [
      "Silhouette score for K=2 is 0.8469811615529953\n",
      "Silhouette score for K=3 is 0.5078507478968481\n",
      "Silhouette score for K=4 is 0.4949525464121174\n",
      "Silhouette score for K=5 is 0.5125451950045308\n",
      "Silhouette score for K=6 is 0.5013365549421439\n",
      "Silhouette score for K=7 is 0.4922061332000023\n",
      "Silhouette score for K=8 is 0.5030902214438921\n",
      "Silhouette score for K=9 is 0.517474010006963\n",
      "Silhouette score for K=10 is 0.5137459155550975\n",
      "Silhouette score for K=11 is 0.4415830005034284\n",
      "Silhouette score for K=12 is 0.4398556476912527\n",
      "Silhouette score for K=13 is 0.43261923247886097\n",
      "Silhouette score for K=14 is 0.42576413365340865\n"
     ]
    }
   ],
   "source": [
    "# Use the silhouette method to see if we can refine our hypothesis for k clusters\n",
    "\n",
    "# Computer mean silhouette score\n",
    "sil = []\n",
    "k = []\n",
    "\n",
    "#We need to start at i=2 as silhouette score cannot accept less than 2 labels \n",
    "for i in range (2,15): \n",
    "    kmeans = KMeans(n_clusters= i, random_state = 0)\n",
    "    kmeans.fit(X)\n",
    "    sil.append(silhouette_score(X, kmeans.predict(X)))\n",
    "    k.append(i)\n",
    "    print(\"Silhouette score for K={} is {}\".format(i, sil[-1]))"
   ]
  },
  {
   "cell_type": "code",
   "execution_count": 15,
   "metadata": {},
   "outputs": [
    {
     "data": {
      "text/html": [
       "<iframe\n",
       "    scrolling=\"no\"\n",
       "    width=\"100%\"\n",
       "    height=\"545px\"\n",
       "    src=\"iframe_figures/figure_15.html\"\n",
       "    frameborder=\"0\"\n",
       "    allowfullscreen\n",
       "></iframe>\n"
      ]
     },
     "metadata": {},
     "output_type": "display_data"
    }
   ],
   "source": [
    "# Create a data frame \n",
    "cluster_scores=pd.DataFrame(sil)\n",
    "k_frame = pd.Series(k)\n",
    "\n",
    "# Create figure\n",
    "fig = px.bar(data_frame=cluster_scores,  \n",
    "             x=k, \n",
    "             y=cluster_scores.iloc[:, -1]\n",
    "            )\n",
    "\n",
    "# Add title and axis labels\n",
    "fig.update_layout(\n",
    "    yaxis_title=\"Silhouette Score\",\n",
    "    xaxis_title=\"Clusters\",\n",
    "    title=\"Silhouette Score per cluster\"\n",
    ")\n",
    "\n",
    "fig.show()"
   ]
  },
  {
   "cell_type": "markdown",
   "metadata": {},
   "source": [
    "Here silhouette method gives similar results with an optimal k = 9.\n",
    "So, I have decided to choose an optimal number of clusters at 9."
   ]
  },
  {
   "cell_type": "code",
   "execution_count": 16,
   "metadata": {},
   "outputs": [
    {
     "data": {
      "text/plain": [
       "KMeans(n_clusters=9)"
      ]
     },
     "execution_count": 16,
     "metadata": {},
     "output_type": "execute_result"
    }
   ],
   "source": [
    "# Train again a KMeans with the optimal number of clusters\n",
    "\n",
    "kmeans = KMeans(n_clusters= 9)\n",
    "kmeans.fit(X)"
   ]
  },
  {
   "cell_type": "code",
   "execution_count": 17,
   "metadata": {},
   "outputs": [
    {
     "data": {
      "text/html": [
       "<div>\n",
       "<style scoped>\n",
       "    .dataframe tbody tr th:only-of-type {\n",
       "        vertical-align: middle;\n",
       "    }\n",
       "\n",
       "    .dataframe tbody tr th {\n",
       "        vertical-align: top;\n",
       "    }\n",
       "\n",
       "    .dataframe thead th {\n",
       "        text-align: right;\n",
       "    }\n",
       "</style>\n",
       "<table border=\"1\" class=\"dataframe\">\n",
       "  <thead>\n",
       "    <tr style=\"text-align: right;\">\n",
       "      <th></th>\n",
       "      <th>Lat</th>\n",
       "      <th>Lon</th>\n",
       "      <th>Hour</th>\n",
       "      <th>DayOfWeek</th>\n",
       "      <th>Cluster_KMeans</th>\n",
       "    </tr>\n",
       "  </thead>\n",
       "  <tbody>\n",
       "    <tr>\n",
       "      <th>477996</th>\n",
       "      <td>40.7436</td>\n",
       "      <td>-73.9790</td>\n",
       "      <td>17</td>\n",
       "      <td>0</td>\n",
       "      <td>0</td>\n",
       "    </tr>\n",
       "    <tr>\n",
       "      <th>267987</th>\n",
       "      <td>40.7118</td>\n",
       "      <td>-74.0066</td>\n",
       "      <td>17</td>\n",
       "      <td>0</td>\n",
       "      <td>2</td>\n",
       "    </tr>\n",
       "    <tr>\n",
       "      <th>531289</th>\n",
       "      <td>40.7429</td>\n",
       "      <td>-73.9948</td>\n",
       "      <td>17</td>\n",
       "      <td>0</td>\n",
       "      <td>0</td>\n",
       "    </tr>\n",
       "    <tr>\n",
       "      <th>478114</th>\n",
       "      <td>40.7065</td>\n",
       "      <td>-73.9310</td>\n",
       "      <td>17</td>\n",
       "      <td>0</td>\n",
       "      <td>3</td>\n",
       "    </tr>\n",
       "    <tr>\n",
       "      <th>380970</th>\n",
       "      <td>40.7299</td>\n",
       "      <td>-73.9930</td>\n",
       "      <td>17</td>\n",
       "      <td>0</td>\n",
       "      <td>2</td>\n",
       "    </tr>\n",
       "  </tbody>\n",
       "</table>\n",
       "</div>"
      ],
      "text/plain": [
       "            Lat      Lon  Hour  DayOfWeek  Cluster_KMeans\n",
       "477996  40.7436 -73.9790    17          0               0\n",
       "267987  40.7118 -74.0066    17          0               2\n",
       "531289  40.7429 -73.9948    17          0               0\n",
       "478114  40.7065 -73.9310    17          0               3\n",
       "380970  40.7299 -73.9930    17          0               2"
      ]
     },
     "execution_count": 17,
     "metadata": {},
     "output_type": "execute_result"
    }
   ],
   "source": [
    "df_monday.loc[:,'Cluster_KMeans'] = kmeans.predict(X)\n",
    "df_monday.head()"
   ]
  },
  {
   "cell_type": "code",
   "execution_count": 18,
   "metadata": {},
   "outputs": [
    {
     "data": {
      "text/html": [
       "<iframe\n",
       "    scrolling=\"no\"\n",
       "    width=\"100%\"\n",
       "    height=\"545px\"\n",
       "    src=\"iframe_figures/figure_18.html\"\n",
       "    frameborder=\"0\"\n",
       "    allowfullscreen\n",
       "></iframe>\n"
      ]
     },
     "metadata": {},
     "output_type": "display_data"
    }
   ],
   "source": [
    "# Visualization clusters on a map\n",
    "\n",
    "fig = px.scatter_mapbox(df_monday, lat=\"Lat\", lon=\"Lon\",color=\"Cluster_KMeans\",hover_name=\"Cluster_KMeans\",\n",
    "                        mapbox_style=\"carto-positron\", zoom = 10)\n",
    "fig.show()"
   ]
  },
  {
   "cell_type": "markdown",
   "metadata": {},
   "source": [
    "Kmeans seems working but let's try with DBSCAN for choose the best for this analysis"
   ]
  },
  {
   "cell_type": "markdown",
   "metadata": {},
   "source": [
    "## Part 3 : Clustering with DBSCAN for monday at 17H"
   ]
  },
  {
   "cell_type": "code",
   "execution_count": 19,
   "metadata": {},
   "outputs": [
    {
     "name": "stdout",
     "output_type": "stream",
     "text": [
      "Creating numeric pipeline...\n",
      "... Done\n",
      "Creating categorical pipeline...\n",
      "... Done\n",
      "\n",
      "Preprocessing sur le train set...\n",
      "\n",
      "            Lat      Lon  Hour  DayOfWeek  Cluster_KMeans\n",
      "477996  40.7436 -73.9790    17          0               0\n",
      "267987  40.7118 -74.0066    17          0               2\n",
      "531289  40.7429 -73.9948    17          0               0\n",
      "478114  40.7065 -73.9310    17          0               3\n",
      "380970  40.7299 -73.9930    17          0               2\n",
      "\n",
      "...Done.\n",
      "\n",
      "[[-0.00896085 -0.03209147  0.        ]\n",
      " [-1.26806387 -0.50374966  0.        ]\n",
      " [-0.03667695 -0.30209869  0.        ]\n",
      " [-1.47791437  0.78818365  0.        ]\n",
      " [-0.5514046  -0.27133837  0.        ]]\n",
      "\n"
     ]
    }
   ],
   "source": [
    "# Create pipeline for numeric features\n",
    "\n",
    "print(\"Creating numeric pipeline...\")\n",
    "numeric_features = [0,1,2] \n",
    "numeric_transformer = Pipeline(steps=[ ('scaler', StandardScaler())])\n",
    "print(\"... Done\")\n",
    "\n",
    "# Create pipeline for categorical features\n",
    "\n",
    "print(\"Creating categorical pipeline...\")\n",
    "categorical_features = [3]\n",
    "categorical_transformer = Pipeline(\n",
    "    steps=[('encoder', OneHotEncoder(drop='first'))])\n",
    "print(\"... Done\")\n",
    "\n",
    "# Use ColumnTransformer\n",
    "\n",
    "preprocessor = ColumnTransformer(\n",
    "    transformers=[\n",
    "        ('num', numeric_transformer, numeric_features),\n",
    "        ('cat', categorical_transformer, categorical_features)  \n",
    "    ])\n",
    "\n",
    "# Preprocessings on dataset\n",
    "print()\n",
    "print(\"Preprocessing sur le train set...\")\n",
    "print()\n",
    "print(df_monday.head())\n",
    "X = preprocessor.fit_transform(df_monday)\n",
    "print()\n",
    "print('...Done.')\n",
    "print()\n",
    "print(X[0:5, :])\n",
    "print()"
   ]
  },
  {
   "cell_type": "code",
   "execution_count": 20,
   "metadata": {},
   "outputs": [
    {
     "data": {
      "text/plain": [
       "DBSCAN(eps=0.2, metric='manhattan', min_samples=10)"
      ]
     },
     "execution_count": 20,
     "metadata": {},
     "output_type": "execute_result"
    }
   ],
   "source": [
    "# Instanciate DBSCAN \n",
    "\n",
    "db = DBSCAN(eps=0.2, min_samples=10, metric=\"manhattan\")\n",
    "db.fit(X)"
   ]
  },
  {
   "cell_type": "code",
   "execution_count": 21,
   "metadata": {},
   "outputs": [
    {
     "data": {
      "text/plain": [
       "array([-1,  0,  1])"
      ]
     },
     "execution_count": 21,
     "metadata": {},
     "output_type": "execute_result"
    }
   ],
   "source": [
    "np.unique(db.labels_)"
   ]
  },
  {
   "cell_type": "code",
   "execution_count": 22,
   "metadata": {},
   "outputs": [
    {
     "data": {
      "text/html": [
       "<div>\n",
       "<style scoped>\n",
       "    .dataframe tbody tr th:only-of-type {\n",
       "        vertical-align: middle;\n",
       "    }\n",
       "\n",
       "    .dataframe tbody tr th {\n",
       "        vertical-align: top;\n",
       "    }\n",
       "\n",
       "    .dataframe thead th {\n",
       "        text-align: right;\n",
       "    }\n",
       "</style>\n",
       "<table border=\"1\" class=\"dataframe\">\n",
       "  <thead>\n",
       "    <tr style=\"text-align: right;\">\n",
       "      <th></th>\n",
       "      <th>Lat</th>\n",
       "      <th>Lon</th>\n",
       "      <th>Hour</th>\n",
       "      <th>DayOfWeek</th>\n",
       "      <th>Cluster_KMeans</th>\n",
       "      <th>cluster</th>\n",
       "    </tr>\n",
       "  </thead>\n",
       "  <tbody>\n",
       "    <tr>\n",
       "      <th>477996</th>\n",
       "      <td>40.7436</td>\n",
       "      <td>-73.9790</td>\n",
       "      <td>17</td>\n",
       "      <td>0</td>\n",
       "      <td>0</td>\n",
       "      <td>-1</td>\n",
       "    </tr>\n",
       "    <tr>\n",
       "      <th>267987</th>\n",
       "      <td>40.7118</td>\n",
       "      <td>-74.0066</td>\n",
       "      <td>17</td>\n",
       "      <td>0</td>\n",
       "      <td>2</td>\n",
       "      <td>-1</td>\n",
       "    </tr>\n",
       "    <tr>\n",
       "      <th>531289</th>\n",
       "      <td>40.7429</td>\n",
       "      <td>-73.9948</td>\n",
       "      <td>17</td>\n",
       "      <td>0</td>\n",
       "      <td>0</td>\n",
       "      <td>1</td>\n",
       "    </tr>\n",
       "    <tr>\n",
       "      <th>478114</th>\n",
       "      <td>40.7065</td>\n",
       "      <td>-73.9310</td>\n",
       "      <td>17</td>\n",
       "      <td>0</td>\n",
       "      <td>3</td>\n",
       "      <td>-1</td>\n",
       "    </tr>\n",
       "    <tr>\n",
       "      <th>380970</th>\n",
       "      <td>40.7299</td>\n",
       "      <td>-73.9930</td>\n",
       "      <td>17</td>\n",
       "      <td>0</td>\n",
       "      <td>2</td>\n",
       "      <td>-1</td>\n",
       "    </tr>\n",
       "  </tbody>\n",
       "</table>\n",
       "</div>"
      ],
      "text/plain": [
       "            Lat      Lon  Hour  DayOfWeek  Cluster_KMeans  cluster\n",
       "477996  40.7436 -73.9790    17          0               0       -1\n",
       "267987  40.7118 -74.0066    17          0               2       -1\n",
       "531289  40.7429 -73.9948    17          0               0        1\n",
       "478114  40.7065 -73.9310    17          0               3       -1\n",
       "380970  40.7299 -73.9930    17          0               2       -1"
      ]
     },
     "execution_count": 22,
     "metadata": {},
     "output_type": "execute_result"
    }
   ],
   "source": [
    "df_monday[\"cluster\"] = db.labels_\n",
    "df_monday.head()"
   ]
  },
  {
   "cell_type": "code",
   "execution_count": 23,
   "metadata": {},
   "outputs": [
    {
     "data": {
      "text/html": [
       "<iframe\n",
       "    scrolling=\"no\"\n",
       "    width=\"100%\"\n",
       "    height=\"545px\"\n",
       "    src=\"iframe_figures/figure_23.html\"\n",
       "    frameborder=\"0\"\n",
       "    allowfullscreen\n",
       "></iframe>\n"
      ]
     },
     "metadata": {},
     "output_type": "display_data"
    }
   ],
   "source": [
    "# Visualization clusters on a map\n",
    "\n",
    "fig = px.scatter_mapbox(\n",
    "        df_monday[df_monday.cluster != -1], \n",
    "        lat=\"Lat\", \n",
    "        lon=\"Lon\",\n",
    "        color=\"cluster\",\n",
    "        hover_name=\"cluster\",\n",
    "        mapbox_style=\"carto-positron\",\n",
    "        color_continuous_scale =\"viridis\",\n",
    "        zoom = 12\n",
    ")\n",
    "\n",
    "fig.show()"
   ]
  },
  {
   "cell_type": "markdown",
   "metadata": {},
   "source": [
    "For monday at 17h, i found 2 clusters in Manhattan. The first in Midtown (essentially in Midtown west, Midtown east and Garment district) and the second also in Midtown (essentially in Chelsea and Gramercy)"
   ]
  },
  {
   "cell_type": "markdown",
   "metadata": {},
   "source": [
    "DBSCAN seems to be more adapted for this analysis. It is more precise. I decided to try to generalize with."
   ]
  },
  {
   "cell_type": "markdown",
   "metadata": {},
   "source": [
    "## Part 4 : Generalize to every day of week at 17 hours"
   ]
  },
  {
   "cell_type": "markdown",
   "metadata": {},
   "source": [
    "#### For tuesday"
   ]
  },
  {
   "cell_type": "code",
   "execution_count": 24,
   "metadata": {},
   "outputs": [
    {
     "data": {
      "text/html": [
       "<div>\n",
       "<style scoped>\n",
       "    .dataframe tbody tr th:only-of-type {\n",
       "        vertical-align: middle;\n",
       "    }\n",
       "\n",
       "    .dataframe tbody tr th {\n",
       "        vertical-align: top;\n",
       "    }\n",
       "\n",
       "    .dataframe thead th {\n",
       "        text-align: right;\n",
       "    }\n",
       "</style>\n",
       "<table border=\"1\" class=\"dataframe\">\n",
       "  <thead>\n",
       "    <tr style=\"text-align: right;\">\n",
       "      <th></th>\n",
       "      <th>Lat</th>\n",
       "      <th>Lon</th>\n",
       "      <th>Hour</th>\n",
       "      <th>DayOfWeek</th>\n",
       "    </tr>\n",
       "  </thead>\n",
       "  <tbody>\n",
       "    <tr>\n",
       "      <th>292814</th>\n",
       "      <td>40.7407</td>\n",
       "      <td>-73.9919</td>\n",
       "      <td>17</td>\n",
       "      <td>1</td>\n",
       "    </tr>\n",
       "    <tr>\n",
       "      <th>37887</th>\n",
       "      <td>40.7548</td>\n",
       "      <td>-73.9722</td>\n",
       "      <td>17</td>\n",
       "      <td>1</td>\n",
       "    </tr>\n",
       "    <tr>\n",
       "      <th>9815</th>\n",
       "      <td>40.7245</td>\n",
       "      <td>-73.9833</td>\n",
       "      <td>17</td>\n",
       "      <td>1</td>\n",
       "    </tr>\n",
       "    <tr>\n",
       "      <th>109902</th>\n",
       "      <td>40.7550</td>\n",
       "      <td>-73.9943</td>\n",
       "      <td>17</td>\n",
       "      <td>1</td>\n",
       "    </tr>\n",
       "    <tr>\n",
       "      <th>110001</th>\n",
       "      <td>40.7674</td>\n",
       "      <td>-73.9594</td>\n",
       "      <td>17</td>\n",
       "      <td>1</td>\n",
       "    </tr>\n",
       "  </tbody>\n",
       "</table>\n",
       "</div>"
      ],
      "text/plain": [
       "            Lat      Lon  Hour  DayOfWeek\n",
       "292814  40.7407 -73.9919    17          1\n",
       "37887   40.7548 -73.9722    17          1\n",
       "9815    40.7245 -73.9833    17          1\n",
       "109902  40.7550 -73.9943    17          1\n",
       "110001  40.7674 -73.9594    17          1"
      ]
     },
     "execution_count": 24,
     "metadata": {},
     "output_type": "execute_result"
    }
   ],
   "source": [
    "df_tuesday = df.sample(10000, random_state=0)\n",
    "df_tuesday = df_tuesday[df_tuesday['DayOfWeek']== 1]\n",
    "df_tuesday = df_tuesday[df_tuesday['Hour']== 17]\n",
    "df_tuesday.head()"
   ]
  },
  {
   "cell_type": "code",
   "execution_count": 25,
   "metadata": {},
   "outputs": [
    {
     "data": {
      "text/plain": [
       "(167, 4)"
      ]
     },
     "execution_count": 25,
     "metadata": {},
     "output_type": "execute_result"
    }
   ],
   "source": [
    "df_tuesday.shape"
   ]
  },
  {
   "cell_type": "code",
   "execution_count": 26,
   "metadata": {},
   "outputs": [
    {
     "name": "stdout",
     "output_type": "stream",
     "text": [
      "Creating numeric pipeline...\n",
      "... Done\n",
      "Creating categorical pipeline...\n",
      "... Done\n",
      "\n",
      "Preprocessing sur le train set...\n",
      "\n",
      "            Lat      Lon  Hour  DayOfWeek\n",
      "292814  40.7407 -73.9919    17          1\n",
      "37887   40.7548 -73.9722    17          1\n",
      "9815    40.7245 -73.9833    17          1\n",
      "109902  40.7550 -73.9943    17          1\n",
      "110001  40.7674 -73.9594    17          1\n",
      "\n",
      "...Done.\n",
      "\n",
      "[[ 5.37714460e-04 -1.88858660e-01  0.00000000e+00]\n",
      " [ 4.87520884e-01  3.33044831e-01  0.00000000e+00]\n",
      " [-5.58974863e-01  3.89773816e-02  0.00000000e+00]\n",
      " [ 4.94428446e-01 -2.52440811e-01  0.00000000e+00]\n",
      " [ 9.22697332e-01  6.72149637e-01  0.00000000e+00]]\n",
      "\n"
     ]
    }
   ],
   "source": [
    "# Create pipeline for numeric features\n",
    "\n",
    "print(\"Creating numeric pipeline...\")\n",
    "numeric_features = [0,1,2] \n",
    "numeric_transformer = Pipeline(steps=[ ('scaler', StandardScaler())])\n",
    "print(\"... Done\")\n",
    "\n",
    "# Create pipeline for categorical features\n",
    "\n",
    "print(\"Creating categorical pipeline...\")\n",
    "categorical_features = [3]\n",
    "categorical_transformer = Pipeline(\n",
    "    steps=[('encoder', OneHotEncoder(drop='first'))])\n",
    "print(\"... Done\")\n",
    "\n",
    "# Use ColumnTransformer \n",
    "\n",
    "preprocessor = ColumnTransformer(\n",
    "    transformers=[\n",
    "        ('num', numeric_transformer, numeric_features),\n",
    "        ('cat', categorical_transformer, categorical_features)  \n",
    "    ])\n",
    "\n",
    "# Preprocessings on dataset\n",
    "print()\n",
    "print(\"Preprocessing sur le train set...\")\n",
    "print()\n",
    "print(df_tuesday.head())\n",
    "X = preprocessor.fit_transform(df_tuesday)\n",
    "print()\n",
    "print('...Done.')\n",
    "print()\n",
    "print(X[0:5, :])\n",
    "print()"
   ]
  },
  {
   "cell_type": "code",
   "execution_count": 27,
   "metadata": {},
   "outputs": [
    {
     "data": {
      "text/plain": [
       "DBSCAN(eps=0.2, metric='manhattan', min_samples=10)"
      ]
     },
     "execution_count": 27,
     "metadata": {},
     "output_type": "execute_result"
    }
   ],
   "source": [
    "# Instanciate DBSCAN \n",
    "\n",
    "db = DBSCAN(eps=0.2, min_samples=10, metric=\"manhattan\")\n",
    "db.fit(X)"
   ]
  },
  {
   "cell_type": "code",
   "execution_count": 28,
   "metadata": {},
   "outputs": [
    {
     "data": {
      "text/plain": [
       "array([-1,  0,  1])"
      ]
     },
     "execution_count": 28,
     "metadata": {},
     "output_type": "execute_result"
    }
   ],
   "source": [
    "np.unique(db.labels_)"
   ]
  },
  {
   "cell_type": "code",
   "execution_count": 29,
   "metadata": {},
   "outputs": [
    {
     "data": {
      "text/html": [
       "<div>\n",
       "<style scoped>\n",
       "    .dataframe tbody tr th:only-of-type {\n",
       "        vertical-align: middle;\n",
       "    }\n",
       "\n",
       "    .dataframe tbody tr th {\n",
       "        vertical-align: top;\n",
       "    }\n",
       "\n",
       "    .dataframe thead th {\n",
       "        text-align: right;\n",
       "    }\n",
       "</style>\n",
       "<table border=\"1\" class=\"dataframe\">\n",
       "  <thead>\n",
       "    <tr style=\"text-align: right;\">\n",
       "      <th></th>\n",
       "      <th>Lat</th>\n",
       "      <th>Lon</th>\n",
       "      <th>Hour</th>\n",
       "      <th>DayOfWeek</th>\n",
       "      <th>cluster</th>\n",
       "    </tr>\n",
       "  </thead>\n",
       "  <tbody>\n",
       "    <tr>\n",
       "      <th>292814</th>\n",
       "      <td>40.7407</td>\n",
       "      <td>-73.9919</td>\n",
       "      <td>17</td>\n",
       "      <td>1</td>\n",
       "      <td>-1</td>\n",
       "    </tr>\n",
       "    <tr>\n",
       "      <th>37887</th>\n",
       "      <td>40.7548</td>\n",
       "      <td>-73.9722</td>\n",
       "      <td>17</td>\n",
       "      <td>1</td>\n",
       "      <td>0</td>\n",
       "    </tr>\n",
       "    <tr>\n",
       "      <th>9815</th>\n",
       "      <td>40.7245</td>\n",
       "      <td>-73.9833</td>\n",
       "      <td>17</td>\n",
       "      <td>1</td>\n",
       "      <td>-1</td>\n",
       "    </tr>\n",
       "    <tr>\n",
       "      <th>109902</th>\n",
       "      <td>40.7550</td>\n",
       "      <td>-73.9943</td>\n",
       "      <td>17</td>\n",
       "      <td>1</td>\n",
       "      <td>-1</td>\n",
       "    </tr>\n",
       "    <tr>\n",
       "      <th>110001</th>\n",
       "      <td>40.7674</td>\n",
       "      <td>-73.9594</td>\n",
       "      <td>17</td>\n",
       "      <td>1</td>\n",
       "      <td>-1</td>\n",
       "    </tr>\n",
       "  </tbody>\n",
       "</table>\n",
       "</div>"
      ],
      "text/plain": [
       "            Lat      Lon  Hour  DayOfWeek  cluster\n",
       "292814  40.7407 -73.9919    17          1       -1\n",
       "37887   40.7548 -73.9722    17          1        0\n",
       "9815    40.7245 -73.9833    17          1       -1\n",
       "109902  40.7550 -73.9943    17          1       -1\n",
       "110001  40.7674 -73.9594    17          1       -1"
      ]
     },
     "execution_count": 29,
     "metadata": {},
     "output_type": "execute_result"
    }
   ],
   "source": [
    "df_tuesday[\"cluster\"] = db.labels_\n",
    "df_tuesday.head()"
   ]
  },
  {
   "cell_type": "code",
   "execution_count": 30,
   "metadata": {},
   "outputs": [
    {
     "data": {
      "text/html": [
       "<iframe\n",
       "    scrolling=\"no\"\n",
       "    width=\"100%\"\n",
       "    height=\"545px\"\n",
       "    src=\"iframe_figures/figure_30.html\"\n",
       "    frameborder=\"0\"\n",
       "    allowfullscreen\n",
       "></iframe>\n"
      ]
     },
     "metadata": {},
     "output_type": "display_data"
    }
   ],
   "source": [
    "# Visualization clusters on a map\n",
    "\n",
    "fig = px.scatter_mapbox(\n",
    "        df_tuesday[df_tuesday.cluster != -1], \n",
    "        lat=\"Lat\", \n",
    "        lon=\"Lon\",\n",
    "        color=\"cluster\",\n",
    "        hover_name=\"cluster\",\n",
    "        mapbox_style=\"carto-positron\",\n",
    "        color_continuous_scale =\"viridis\",\n",
    "        zoom = 11\n",
    ")\n",
    "\n",
    "fig.show()"
   ]
  },
  {
   "cell_type": "markdown",
   "metadata": {},
   "source": [
    "For tuesday at 17h, i found 2 clusters in Manhattan. The first in Midtown (essentially in Midtown east and Murray Hill) and the second in Financial district."
   ]
  },
  {
   "cell_type": "markdown",
   "metadata": {},
   "source": [
    "#### For wednesday"
   ]
  },
  {
   "cell_type": "code",
   "execution_count": 31,
   "metadata": {},
   "outputs": [
    {
     "data": {
      "text/html": [
       "<div>\n",
       "<style scoped>\n",
       "    .dataframe tbody tr th:only-of-type {\n",
       "        vertical-align: middle;\n",
       "    }\n",
       "\n",
       "    .dataframe tbody tr th {\n",
       "        vertical-align: top;\n",
       "    }\n",
       "\n",
       "    .dataframe thead th {\n",
       "        text-align: right;\n",
       "    }\n",
       "</style>\n",
       "<table border=\"1\" class=\"dataframe\">\n",
       "  <thead>\n",
       "    <tr style=\"text-align: right;\">\n",
       "      <th></th>\n",
       "      <th>Lat</th>\n",
       "      <th>Lon</th>\n",
       "      <th>Hour</th>\n",
       "      <th>DayOfWeek</th>\n",
       "    </tr>\n",
       "  </thead>\n",
       "  <tbody>\n",
       "    <tr>\n",
       "      <th>296073</th>\n",
       "      <td>40.7044</td>\n",
       "      <td>-73.9866</td>\n",
       "      <td>17</td>\n",
       "      <td>2</td>\n",
       "    </tr>\n",
       "    <tr>\n",
       "      <th>18762</th>\n",
       "      <td>40.7305</td>\n",
       "      <td>-73.9935</td>\n",
       "      <td>17</td>\n",
       "      <td>2</td>\n",
       "    </tr>\n",
       "    <tr>\n",
       "      <th>395738</th>\n",
       "      <td>40.7476</td>\n",
       "      <td>-73.9846</td>\n",
       "      <td>17</td>\n",
       "      <td>2</td>\n",
       "    </tr>\n",
       "    <tr>\n",
       "      <th>338082</th>\n",
       "      <td>40.7041</td>\n",
       "      <td>-74.0110</td>\n",
       "      <td>17</td>\n",
       "      <td>2</td>\n",
       "    </tr>\n",
       "    <tr>\n",
       "      <th>116210</th>\n",
       "      <td>40.7476</td>\n",
       "      <td>-73.9822</td>\n",
       "      <td>17</td>\n",
       "      <td>2</td>\n",
       "    </tr>\n",
       "  </tbody>\n",
       "</table>\n",
       "</div>"
      ],
      "text/plain": [
       "            Lat      Lon  Hour  DayOfWeek\n",
       "296073  40.7044 -73.9866    17          2\n",
       "18762   40.7305 -73.9935    17          2\n",
       "395738  40.7476 -73.9846    17          2\n",
       "338082  40.7041 -74.0110    17          2\n",
       "116210  40.7476 -73.9822    17          2"
      ]
     },
     "execution_count": 31,
     "metadata": {},
     "output_type": "execute_result"
    }
   ],
   "source": [
    "df_wednesday = df.sample(10000, random_state=0)\n",
    "df_wednesday = df_wednesday[df_wednesday['DayOfWeek']== 2]\n",
    "df_wednesday = df_wednesday[df_wednesday['Hour']== 17]\n",
    "df_wednesday.head()"
   ]
  },
  {
   "cell_type": "code",
   "execution_count": 32,
   "metadata": {},
   "outputs": [
    {
     "data": {
      "text/plain": [
       "(154, 4)"
      ]
     },
     "execution_count": 32,
     "metadata": {},
     "output_type": "execute_result"
    }
   ],
   "source": [
    "df_wednesday.shape"
   ]
  },
  {
   "cell_type": "code",
   "execution_count": 33,
   "metadata": {},
   "outputs": [
    {
     "name": "stdout",
     "output_type": "stream",
     "text": [
      "Creating numeric pipeline...\n",
      "... Done\n",
      "Creating categorical pipeline...\n",
      "... Done\n",
      "\n",
      "Preprocessing sur le train set...\n",
      "\n",
      "            Lat      Lon  Hour  DayOfWeek\n",
      "296073  40.7044 -73.9866    17          2\n",
      "18762   40.7305 -73.9935    17          2\n",
      "395738  40.7476 -73.9846    17          2\n",
      "338082  40.7041 -74.0110    17          2\n",
      "116210  40.7476 -73.9822    17          2\n",
      "\n",
      "...Done.\n",
      "\n",
      "[[-1.37927515 -0.21455717  0.        ]\n",
      " [-0.49032342 -0.44035539  0.        ]\n",
      " [ 0.09209322 -0.14910842  0.        ]\n",
      " [-1.38949298 -1.01303201  0.        ]\n",
      " [ 0.09209322 -0.07056991  0.        ]]\n",
      "\n"
     ]
    }
   ],
   "source": [
    "# Create pipeline for numeric features\n",
    "\n",
    "print(\"Creating numeric pipeline...\")\n",
    "numeric_features = [0,1,2] \n",
    "numeric_transformer = Pipeline(steps=[ ('scaler', StandardScaler())])\n",
    "print(\"... Done\")\n",
    "\n",
    "# Create pipeline for categorical features\n",
    "\n",
    "print(\"Creating categorical pipeline...\")\n",
    "categorical_features = [3]\n",
    "categorical_transformer = Pipeline(\n",
    "    steps=[('encoder', OneHotEncoder(drop='first'))])\n",
    "print(\"... Done\")\n",
    "\n",
    "# Use ColumnTransformer \n",
    "\n",
    "preprocessor = ColumnTransformer(\n",
    "    transformers=[\n",
    "        ('num', numeric_transformer, numeric_features),\n",
    "        ('cat', categorical_transformer, categorical_features)  \n",
    "    ])\n",
    "\n",
    "# Preprocessings on dataset\n",
    "print()\n",
    "print(\"Preprocessing sur le train set...\")\n",
    "print()\n",
    "print(df_wednesday.head())\n",
    "X = preprocessor.fit_transform(df_wednesday)\n",
    "print()\n",
    "print('...Done.')\n",
    "print()\n",
    "print(X[0:5, :])\n",
    "print()"
   ]
  },
  {
   "cell_type": "code",
   "execution_count": 34,
   "metadata": {},
   "outputs": [
    {
     "data": {
      "text/plain": [
       "DBSCAN(eps=0.2, metric='manhattan', min_samples=10)"
      ]
     },
     "execution_count": 34,
     "metadata": {},
     "output_type": "execute_result"
    }
   ],
   "source": [
    "# Instanciate DBSCAN \n",
    "\n",
    "db = DBSCAN(eps=0.2, min_samples=10, metric=\"manhattan\")\n",
    "db.fit(X)"
   ]
  },
  {
   "cell_type": "code",
   "execution_count": 35,
   "metadata": {},
   "outputs": [
    {
     "data": {
      "text/plain": [
       "array([-1,  0,  1,  2])"
      ]
     },
     "execution_count": 35,
     "metadata": {},
     "output_type": "execute_result"
    }
   ],
   "source": [
    "np.unique(db.labels_)"
   ]
  },
  {
   "cell_type": "code",
   "execution_count": 36,
   "metadata": {},
   "outputs": [
    {
     "data": {
      "text/html": [
       "<div>\n",
       "<style scoped>\n",
       "    .dataframe tbody tr th:only-of-type {\n",
       "        vertical-align: middle;\n",
       "    }\n",
       "\n",
       "    .dataframe tbody tr th {\n",
       "        vertical-align: top;\n",
       "    }\n",
       "\n",
       "    .dataframe thead th {\n",
       "        text-align: right;\n",
       "    }\n",
       "</style>\n",
       "<table border=\"1\" class=\"dataframe\">\n",
       "  <thead>\n",
       "    <tr style=\"text-align: right;\">\n",
       "      <th></th>\n",
       "      <th>Lat</th>\n",
       "      <th>Lon</th>\n",
       "      <th>Hour</th>\n",
       "      <th>DayOfWeek</th>\n",
       "      <th>cluster</th>\n",
       "    </tr>\n",
       "  </thead>\n",
       "  <tbody>\n",
       "    <tr>\n",
       "      <th>296073</th>\n",
       "      <td>40.7044</td>\n",
       "      <td>-73.9866</td>\n",
       "      <td>17</td>\n",
       "      <td>2</td>\n",
       "      <td>-1</td>\n",
       "    </tr>\n",
       "    <tr>\n",
       "      <th>18762</th>\n",
       "      <td>40.7305</td>\n",
       "      <td>-73.9935</td>\n",
       "      <td>17</td>\n",
       "      <td>2</td>\n",
       "      <td>-1</td>\n",
       "    </tr>\n",
       "    <tr>\n",
       "      <th>395738</th>\n",
       "      <td>40.7476</td>\n",
       "      <td>-73.9846</td>\n",
       "      <td>17</td>\n",
       "      <td>2</td>\n",
       "      <td>0</td>\n",
       "    </tr>\n",
       "    <tr>\n",
       "      <th>338082</th>\n",
       "      <td>40.7041</td>\n",
       "      <td>-74.0110</td>\n",
       "      <td>17</td>\n",
       "      <td>2</td>\n",
       "      <td>-1</td>\n",
       "    </tr>\n",
       "    <tr>\n",
       "      <th>116210</th>\n",
       "      <td>40.7476</td>\n",
       "      <td>-73.9822</td>\n",
       "      <td>17</td>\n",
       "      <td>2</td>\n",
       "      <td>0</td>\n",
       "    </tr>\n",
       "  </tbody>\n",
       "</table>\n",
       "</div>"
      ],
      "text/plain": [
       "            Lat      Lon  Hour  DayOfWeek  cluster\n",
       "296073  40.7044 -73.9866    17          2       -1\n",
       "18762   40.7305 -73.9935    17          2       -1\n",
       "395738  40.7476 -73.9846    17          2        0\n",
       "338082  40.7041 -74.0110    17          2       -1\n",
       "116210  40.7476 -73.9822    17          2        0"
      ]
     },
     "execution_count": 36,
     "metadata": {},
     "output_type": "execute_result"
    }
   ],
   "source": [
    "df_wednesday[\"cluster\"] = db.labels_\n",
    "df_wednesday.head()"
   ]
  },
  {
   "cell_type": "code",
   "execution_count": 37,
   "metadata": {},
   "outputs": [
    {
     "data": {
      "text/html": [
       "<iframe\n",
       "    scrolling=\"no\"\n",
       "    width=\"100%\"\n",
       "    height=\"545px\"\n",
       "    src=\"iframe_figures/figure_37.html\"\n",
       "    frameborder=\"0\"\n",
       "    allowfullscreen\n",
       "></iframe>\n"
      ]
     },
     "metadata": {},
     "output_type": "display_data"
    }
   ],
   "source": [
    "# Visualization clusters on a map\n",
    "\n",
    "fig = px.scatter_mapbox(\n",
    "        df_wednesday[df_wednesday.cluster != -1], \n",
    "        lat=\"Lat\", \n",
    "        lon=\"Lon\",\n",
    "        color=\"cluster\",\n",
    "        hover_name=\"cluster\",\n",
    "        mapbox_style=\"carto-positron\",\n",
    "        color_continuous_scale =\"viridis\",\n",
    "        zoom = 12\n",
    ")\n",
    "\n",
    "fig.show()"
   ]
  },
  {
   "cell_type": "markdown",
   "metadata": {},
   "source": [
    "For wednesday at 17h, i found 3 clusters in Manhattan. The first in Midtown (essentially in Midtown east and Murray Hill), the second in Flatiron district and the third in Chelsea."
   ]
  },
  {
   "cell_type": "markdown",
   "metadata": {},
   "source": [
    "#### For thursday"
   ]
  },
  {
   "cell_type": "code",
   "execution_count": 38,
   "metadata": {},
   "outputs": [
    {
     "data": {
      "text/html": [
       "<div>\n",
       "<style scoped>\n",
       "    .dataframe tbody tr th:only-of-type {\n",
       "        vertical-align: middle;\n",
       "    }\n",
       "\n",
       "    .dataframe tbody tr th {\n",
       "        vertical-align: top;\n",
       "    }\n",
       "\n",
       "    .dataframe thead th {\n",
       "        text-align: right;\n",
       "    }\n",
       "</style>\n",
       "<table border=\"1\" class=\"dataframe\">\n",
       "  <thead>\n",
       "    <tr style=\"text-align: right;\">\n",
       "      <th></th>\n",
       "      <th>Lat</th>\n",
       "      <th>Lon</th>\n",
       "      <th>Hour</th>\n",
       "      <th>DayOfWeek</th>\n",
       "    </tr>\n",
       "  </thead>\n",
       "  <tbody>\n",
       "    <tr>\n",
       "      <th>403520</th>\n",
       "      <td>40.7561</td>\n",
       "      <td>-73.9976</td>\n",
       "      <td>17</td>\n",
       "      <td>3</td>\n",
       "    </tr>\n",
       "    <tr>\n",
       "      <th>255005</th>\n",
       "      <td>40.8078</td>\n",
       "      <td>-73.9595</td>\n",
       "      <td>17</td>\n",
       "      <td>3</td>\n",
       "    </tr>\n",
       "    <tr>\n",
       "      <th>122304</th>\n",
       "      <td>40.7788</td>\n",
       "      <td>-73.9560</td>\n",
       "      <td>17</td>\n",
       "      <td>3</td>\n",
       "    </tr>\n",
       "    <tr>\n",
       "      <th>499137</th>\n",
       "      <td>40.7654</td>\n",
       "      <td>-73.9721</td>\n",
       "      <td>17</td>\n",
       "      <td>3</td>\n",
       "    </tr>\n",
       "    <tr>\n",
       "      <th>403106</th>\n",
       "      <td>40.7577</td>\n",
       "      <td>-73.9825</td>\n",
       "      <td>17</td>\n",
       "      <td>3</td>\n",
       "    </tr>\n",
       "  </tbody>\n",
       "</table>\n",
       "</div>"
      ],
      "text/plain": [
       "            Lat      Lon  Hour  DayOfWeek\n",
       "403520  40.7561 -73.9976    17          3\n",
       "255005  40.8078 -73.9595    17          3\n",
       "122304  40.7788 -73.9560    17          3\n",
       "499137  40.7654 -73.9721    17          3\n",
       "403106  40.7577 -73.9825    17          3"
      ]
     },
     "execution_count": 38,
     "metadata": {},
     "output_type": "execute_result"
    }
   ],
   "source": [
    "df_thursday = df.sample(10000, random_state=0)\n",
    "df_thursday = df_thursday[df_thursday['DayOfWeek']== 3]\n",
    "df_thursday = df_thursday[df_thursday['Hour']== 17]\n",
    "df_thursday.head()"
   ]
  },
  {
   "cell_type": "code",
   "execution_count": 39,
   "metadata": {},
   "outputs": [
    {
     "data": {
      "text/plain": [
       "(121, 4)"
      ]
     },
     "execution_count": 39,
     "metadata": {},
     "output_type": "execute_result"
    }
   ],
   "source": [
    "df_thursday.shape"
   ]
  },
  {
   "cell_type": "code",
   "execution_count": 40,
   "metadata": {},
   "outputs": [
    {
     "name": "stdout",
     "output_type": "stream",
     "text": [
      "Creating numeric pipeline...\n",
      "... Done\n",
      "Creating categorical pipeline...\n",
      "... Done\n",
      "\n",
      "Preprocessing sur le train set...\n",
      "\n",
      "            Lat      Lon  Hour  DayOfWeek\n",
      "403520  40.7561 -73.9976    17          3\n",
      "255005  40.8078 -73.9595    17          3\n",
      "122304  40.7788 -73.9560    17          3\n",
      "499137  40.7654 -73.9721    17          3\n",
      "403106  40.7577 -73.9825    17          3\n",
      "\n",
      "...Done.\n",
      "\n",
      "[[ 0.5499176  -0.42051047  0.        ]\n",
      " [ 2.45074614  0.5442528   0.        ]\n",
      " [ 1.38451736  0.63287935  0.        ]\n",
      " [ 0.89184614  0.22519723  0.        ]\n",
      " [ 0.60874401 -0.03815022  0.        ]]\n",
      "\n"
     ]
    }
   ],
   "source": [
    "# Create pipeline for numeric features\n",
    "\n",
    "print(\"Creating numeric pipeline...\")\n",
    "numeric_features = [0,1,2] \n",
    "numeric_transformer = Pipeline(steps=[ ('scaler', StandardScaler())])\n",
    "print(\"... Done\")\n",
    "\n",
    "# Create pipeline for categorical features\n",
    "\n",
    "print(\"Creating categorical pipeline...\")\n",
    "categorical_features = [3]\n",
    "categorical_transformer = Pipeline(\n",
    "    steps=[('encoder', OneHotEncoder(drop='first'))])\n",
    "print(\"... Done\")\n",
    "\n",
    "# Use ColumnTransformer\n",
    "\n",
    "preprocessor = ColumnTransformer(\n",
    "    transformers=[\n",
    "        ('num', numeric_transformer, numeric_features),\n",
    "        ('cat', categorical_transformer, categorical_features)  \n",
    "    ])\n",
    "\n",
    "# Preprocessings on dataset\n",
    "print()\n",
    "print(\"Preprocessing sur le train set...\")\n",
    "print()\n",
    "print(df_thursday.head())\n",
    "X = preprocessor.fit_transform(df_thursday)\n",
    "print()\n",
    "print('...Done.')\n",
    "print()\n",
    "print(X[0:5, :])\n",
    "print()"
   ]
  },
  {
   "cell_type": "code",
   "execution_count": 41,
   "metadata": {},
   "outputs": [
    {
     "data": {
      "text/plain": [
       "DBSCAN(eps=0.2, metric='manhattan', min_samples=10)"
      ]
     },
     "execution_count": 41,
     "metadata": {},
     "output_type": "execute_result"
    }
   ],
   "source": [
    "# Instanciate DBSCAN \n",
    "\n",
    "db = DBSCAN(eps=0.2, min_samples=10, metric=\"manhattan\")\n",
    "db.fit(X)"
   ]
  },
  {
   "cell_type": "code",
   "execution_count": 42,
   "metadata": {},
   "outputs": [
    {
     "data": {
      "text/plain": [
       "array([-1,  0,  1,  2])"
      ]
     },
     "execution_count": 42,
     "metadata": {},
     "output_type": "execute_result"
    }
   ],
   "source": [
    "np.unique(db.labels_)"
   ]
  },
  {
   "cell_type": "code",
   "execution_count": 43,
   "metadata": {},
   "outputs": [
    {
     "data": {
      "text/html": [
       "<div>\n",
       "<style scoped>\n",
       "    .dataframe tbody tr th:only-of-type {\n",
       "        vertical-align: middle;\n",
       "    }\n",
       "\n",
       "    .dataframe tbody tr th {\n",
       "        vertical-align: top;\n",
       "    }\n",
       "\n",
       "    .dataframe thead th {\n",
       "        text-align: right;\n",
       "    }\n",
       "</style>\n",
       "<table border=\"1\" class=\"dataframe\">\n",
       "  <thead>\n",
       "    <tr style=\"text-align: right;\">\n",
       "      <th></th>\n",
       "      <th>Lat</th>\n",
       "      <th>Lon</th>\n",
       "      <th>Hour</th>\n",
       "      <th>DayOfWeek</th>\n",
       "      <th>cluster</th>\n",
       "    </tr>\n",
       "  </thead>\n",
       "  <tbody>\n",
       "    <tr>\n",
       "      <th>403520</th>\n",
       "      <td>40.7561</td>\n",
       "      <td>-73.9976</td>\n",
       "      <td>17</td>\n",
       "      <td>3</td>\n",
       "      <td>-1</td>\n",
       "    </tr>\n",
       "    <tr>\n",
       "      <th>255005</th>\n",
       "      <td>40.8078</td>\n",
       "      <td>-73.9595</td>\n",
       "      <td>17</td>\n",
       "      <td>3</td>\n",
       "      <td>-1</td>\n",
       "    </tr>\n",
       "    <tr>\n",
       "      <th>122304</th>\n",
       "      <td>40.7788</td>\n",
       "      <td>-73.9560</td>\n",
       "      <td>17</td>\n",
       "      <td>3</td>\n",
       "      <td>-1</td>\n",
       "    </tr>\n",
       "    <tr>\n",
       "      <th>499137</th>\n",
       "      <td>40.7654</td>\n",
       "      <td>-73.9721</td>\n",
       "      <td>17</td>\n",
       "      <td>3</td>\n",
       "      <td>2</td>\n",
       "    </tr>\n",
       "    <tr>\n",
       "      <th>403106</th>\n",
       "      <td>40.7577</td>\n",
       "      <td>-73.9825</td>\n",
       "      <td>17</td>\n",
       "      <td>3</td>\n",
       "      <td>1</td>\n",
       "    </tr>\n",
       "  </tbody>\n",
       "</table>\n",
       "</div>"
      ],
      "text/plain": [
       "            Lat      Lon  Hour  DayOfWeek  cluster\n",
       "403520  40.7561 -73.9976    17          3       -1\n",
       "255005  40.8078 -73.9595    17          3       -1\n",
       "122304  40.7788 -73.9560    17          3       -1\n",
       "499137  40.7654 -73.9721    17          3        2\n",
       "403106  40.7577 -73.9825    17          3        1"
      ]
     },
     "execution_count": 43,
     "metadata": {},
     "output_type": "execute_result"
    }
   ],
   "source": [
    "df_thursday[\"cluster\"] = db.labels_\n",
    "df_thursday.head()"
   ]
  },
  {
   "cell_type": "code",
   "execution_count": 44,
   "metadata": {},
   "outputs": [
    {
     "data": {
      "text/html": [
       "<iframe\n",
       "    scrolling=\"no\"\n",
       "    width=\"100%\"\n",
       "    height=\"545px\"\n",
       "    src=\"iframe_figures/figure_44.html\"\n",
       "    frameborder=\"0\"\n",
       "    allowfullscreen\n",
       "></iframe>\n"
      ]
     },
     "metadata": {},
     "output_type": "display_data"
    }
   ],
   "source": [
    "# Visualization clusters on a map\n",
    "\n",
    "fig = px.scatter_mapbox(\n",
    "        df_thursday[df_thursday.cluster != -1], \n",
    "        lat=\"Lat\", \n",
    "        lon=\"Lon\",\n",
    "        color=\"cluster\",\n",
    "        hover_name=\"cluster\",\n",
    "        mapbox_style=\"carto-positron\",\n",
    "        color_continuous_scale =\"viridis\",\n",
    "        zoom = 12\n",
    ")\n",
    "\n",
    "fig.show()"
   ]
  },
  {
   "cell_type": "markdown",
   "metadata": {},
   "source": [
    "For thursday at 17h, i found 3 clusters in Manhattan. The first in Flatiron district, the second in districts Murray Hill and Midtown east and the third in Midtown east"
   ]
  },
  {
   "cell_type": "markdown",
   "metadata": {},
   "source": [
    "#### For friday"
   ]
  },
  {
   "cell_type": "code",
   "execution_count": 45,
   "metadata": {},
   "outputs": [
    {
     "data": {
      "text/html": [
       "<div>\n",
       "<style scoped>\n",
       "    .dataframe tbody tr th:only-of-type {\n",
       "        vertical-align: middle;\n",
       "    }\n",
       "\n",
       "    .dataframe tbody tr th {\n",
       "        vertical-align: top;\n",
       "    }\n",
       "\n",
       "    .dataframe thead th {\n",
       "        text-align: right;\n",
       "    }\n",
       "</style>\n",
       "<table border=\"1\" class=\"dataframe\">\n",
       "  <thead>\n",
       "    <tr style=\"text-align: right;\">\n",
       "      <th></th>\n",
       "      <th>Lat</th>\n",
       "      <th>Lon</th>\n",
       "      <th>Hour</th>\n",
       "      <th>DayOfWeek</th>\n",
       "    </tr>\n",
       "  </thead>\n",
       "  <tbody>\n",
       "    <tr>\n",
       "      <th>90104</th>\n",
       "      <td>40.7253</td>\n",
       "      <td>-73.9780</td>\n",
       "      <td>17</td>\n",
       "      <td>4</td>\n",
       "    </tr>\n",
       "    <tr>\n",
       "      <th>53051</th>\n",
       "      <td>40.7712</td>\n",
       "      <td>-73.9822</td>\n",
       "      <td>17</td>\n",
       "      <td>4</td>\n",
       "    </tr>\n",
       "    <tr>\n",
       "      <th>411707</th>\n",
       "      <td>40.7546</td>\n",
       "      <td>-73.9819</td>\n",
       "      <td>17</td>\n",
       "      <td>4</td>\n",
       "    </tr>\n",
       "    <tr>\n",
       "      <th>304358</th>\n",
       "      <td>40.7161</td>\n",
       "      <td>-74.0149</td>\n",
       "      <td>17</td>\n",
       "      <td>4</td>\n",
       "    </tr>\n",
       "    <tr>\n",
       "      <th>304331</th>\n",
       "      <td>40.7699</td>\n",
       "      <td>-73.9843</td>\n",
       "      <td>17</td>\n",
       "      <td>4</td>\n",
       "    </tr>\n",
       "  </tbody>\n",
       "</table>\n",
       "</div>"
      ],
      "text/plain": [
       "            Lat      Lon  Hour  DayOfWeek\n",
       "90104   40.7253 -73.9780    17          4\n",
       "53051   40.7712 -73.9822    17          4\n",
       "411707  40.7546 -73.9819    17          4\n",
       "304358  40.7161 -74.0149    17          4\n",
       "304331  40.7699 -73.9843    17          4"
      ]
     },
     "execution_count": 45,
     "metadata": {},
     "output_type": "execute_result"
    }
   ],
   "source": [
    "df_friday = df.sample(10000, random_state=0)\n",
    "df_friday = df_friday[df_friday['DayOfWeek']== 4]\n",
    "df_friday = df_friday[df_friday['Hour']== 17]\n",
    "df_friday.head()"
   ]
  },
  {
   "cell_type": "code",
   "execution_count": 46,
   "metadata": {},
   "outputs": [
    {
     "data": {
      "text/plain": [
       "(110, 4)"
      ]
     },
     "execution_count": 46,
     "metadata": {},
     "output_type": "execute_result"
    }
   ],
   "source": [
    "df_friday.shape"
   ]
  },
  {
   "cell_type": "code",
   "execution_count": 47,
   "metadata": {},
   "outputs": [
    {
     "name": "stdout",
     "output_type": "stream",
     "text": [
      "Creating numeric pipeline...\n",
      "... Done\n",
      "Creating categorical pipeline...\n",
      "... Done\n",
      "\n",
      "Preprocessing sur le train set...\n",
      "\n",
      "            Lat      Lon  Hour  DayOfWeek\n",
      "90104   40.7253 -73.9780    17          4\n",
      "53051   40.7712 -73.9822    17          4\n",
      "411707  40.7546 -73.9819    17          4\n",
      "304358  40.7161 -74.0149    17          4\n",
      "304331  40.7699 -73.9843    17          4\n",
      "\n",
      "...Done.\n",
      "\n",
      "[[-0.68770162  0.06100928  0.        ]\n",
      " [ 0.81327338 -0.04969884  0.        ]\n",
      " [ 0.27043711 -0.04179112  0.        ]\n",
      " [-0.98855064 -0.91164063  0.        ]\n",
      " [ 0.77076211 -0.1050529   0.        ]]\n",
      "\n"
     ]
    }
   ],
   "source": [
    "# Create pipeline for numeric features\n",
    "\n",
    "print(\"Creating numeric pipeline...\")\n",
    "numeric_features = [0,1,2] \n",
    "numeric_transformer = Pipeline(steps=[ ('scaler', StandardScaler())])\n",
    "print(\"... Done\")\n",
    "\n",
    "# Create pipeline for categorical features\n",
    "\n",
    "print(\"Creating categorical pipeline...\")\n",
    "categorical_features = [3]\n",
    "categorical_transformer = Pipeline(\n",
    "    steps=[('encoder', OneHotEncoder(drop='first'))])\n",
    "print(\"... Done\")\n",
    "\n",
    "# Use ColumnTransformer \n",
    "\n",
    "preprocessor = ColumnTransformer(\n",
    "    transformers=[\n",
    "        ('num', numeric_transformer, numeric_features),\n",
    "        ('cat', categorical_transformer, categorical_features)  \n",
    "    ])\n",
    "\n",
    "# Preprocessings on dataset\n",
    "print()\n",
    "print(\"Preprocessing sur le train set...\")\n",
    "print()\n",
    "print(df_friday.head())\n",
    "X = preprocessor.fit_transform(df_friday)\n",
    "print()\n",
    "print('...Done.')\n",
    "print()\n",
    "print(X[0:5, :])\n",
    "print()"
   ]
  },
  {
   "cell_type": "code",
   "execution_count": 48,
   "metadata": {},
   "outputs": [
    {
     "data": {
      "text/plain": [
       "DBSCAN(eps=0.2, metric='manhattan', min_samples=10)"
      ]
     },
     "execution_count": 48,
     "metadata": {},
     "output_type": "execute_result"
    }
   ],
   "source": [
    "# Instanciate DBSCAN \n",
    "\n",
    "db = DBSCAN(eps=0.2, min_samples=10, metric=\"manhattan\")\n",
    "db.fit(X)"
   ]
  },
  {
   "cell_type": "code",
   "execution_count": 49,
   "metadata": {},
   "outputs": [
    {
     "data": {
      "text/plain": [
       "array([-1,  0])"
      ]
     },
     "execution_count": 49,
     "metadata": {},
     "output_type": "execute_result"
    }
   ],
   "source": [
    "np.unique(db.labels_)"
   ]
  },
  {
   "cell_type": "code",
   "execution_count": 50,
   "metadata": {},
   "outputs": [
    {
     "data": {
      "text/html": [
       "<div>\n",
       "<style scoped>\n",
       "    .dataframe tbody tr th:only-of-type {\n",
       "        vertical-align: middle;\n",
       "    }\n",
       "\n",
       "    .dataframe tbody tr th {\n",
       "        vertical-align: top;\n",
       "    }\n",
       "\n",
       "    .dataframe thead th {\n",
       "        text-align: right;\n",
       "    }\n",
       "</style>\n",
       "<table border=\"1\" class=\"dataframe\">\n",
       "  <thead>\n",
       "    <tr style=\"text-align: right;\">\n",
       "      <th></th>\n",
       "      <th>Lat</th>\n",
       "      <th>Lon</th>\n",
       "      <th>Hour</th>\n",
       "      <th>DayOfWeek</th>\n",
       "      <th>cluster</th>\n",
       "    </tr>\n",
       "  </thead>\n",
       "  <tbody>\n",
       "    <tr>\n",
       "      <th>90104</th>\n",
       "      <td>40.7253</td>\n",
       "      <td>-73.9780</td>\n",
       "      <td>17</td>\n",
       "      <td>4</td>\n",
       "      <td>-1</td>\n",
       "    </tr>\n",
       "    <tr>\n",
       "      <th>53051</th>\n",
       "      <td>40.7712</td>\n",
       "      <td>-73.9822</td>\n",
       "      <td>17</td>\n",
       "      <td>4</td>\n",
       "      <td>-1</td>\n",
       "    </tr>\n",
       "    <tr>\n",
       "      <th>411707</th>\n",
       "      <td>40.7546</td>\n",
       "      <td>-73.9819</td>\n",
       "      <td>17</td>\n",
       "      <td>4</td>\n",
       "      <td>0</td>\n",
       "    </tr>\n",
       "    <tr>\n",
       "      <th>304358</th>\n",
       "      <td>40.7161</td>\n",
       "      <td>-74.0149</td>\n",
       "      <td>17</td>\n",
       "      <td>4</td>\n",
       "      <td>-1</td>\n",
       "    </tr>\n",
       "    <tr>\n",
       "      <th>304331</th>\n",
       "      <td>40.7699</td>\n",
       "      <td>-73.9843</td>\n",
       "      <td>17</td>\n",
       "      <td>4</td>\n",
       "      <td>-1</td>\n",
       "    </tr>\n",
       "  </tbody>\n",
       "</table>\n",
       "</div>"
      ],
      "text/plain": [
       "            Lat      Lon  Hour  DayOfWeek  cluster\n",
       "90104   40.7253 -73.9780    17          4       -1\n",
       "53051   40.7712 -73.9822    17          4       -1\n",
       "411707  40.7546 -73.9819    17          4        0\n",
       "304358  40.7161 -74.0149    17          4       -1\n",
       "304331  40.7699 -73.9843    17          4       -1"
      ]
     },
     "execution_count": 50,
     "metadata": {},
     "output_type": "execute_result"
    }
   ],
   "source": [
    "df_friday[\"cluster\"] = db.labels_\n",
    "df_friday.head()"
   ]
  },
  {
   "cell_type": "code",
   "execution_count": 51,
   "metadata": {},
   "outputs": [
    {
     "data": {
      "text/html": [
       "<iframe\n",
       "    scrolling=\"no\"\n",
       "    width=\"100%\"\n",
       "    height=\"545px\"\n",
       "    src=\"iframe_figures/figure_51.html\"\n",
       "    frameborder=\"0\"\n",
       "    allowfullscreen\n",
       "></iframe>\n"
      ]
     },
     "metadata": {},
     "output_type": "display_data"
    }
   ],
   "source": [
    "# Visualization clusters on a map\n",
    "\n",
    "fig = px.scatter_mapbox(\n",
    "        df_friday[df_friday.cluster != -1], \n",
    "        lat=\"Lat\", \n",
    "        lon=\"Lon\",\n",
    "        color=\"cluster\",\n",
    "        hover_name=\"cluster\",\n",
    "        mapbox_style=\"carto-positron\",\n",
    "        color_continuous_scale =\"viridis\",\n",
    "        zoom = 12\n",
    ")\n",
    "\n",
    "fig.show()"
   ]
  },
  {
   "cell_type": "markdown",
   "metadata": {},
   "source": [
    "For friday at 17h, i found 1 clusters in Manhattan in Midtown at Midtown east"
   ]
  },
  {
   "cell_type": "markdown",
   "metadata": {},
   "source": [
    "#### For saturday"
   ]
  },
  {
   "cell_type": "code",
   "execution_count": 52,
   "metadata": {},
   "outputs": [
    {
     "data": {
      "text/html": [
       "<div>\n",
       "<style scoped>\n",
       "    .dataframe tbody tr th:only-of-type {\n",
       "        vertical-align: middle;\n",
       "    }\n",
       "\n",
       "    .dataframe tbody tr th {\n",
       "        vertical-align: top;\n",
       "    }\n",
       "\n",
       "    .dataframe thead th {\n",
       "        text-align: right;\n",
       "    }\n",
       "</style>\n",
       "<table border=\"1\" class=\"dataframe\">\n",
       "  <thead>\n",
       "    <tr style=\"text-align: right;\">\n",
       "      <th></th>\n",
       "      <th>Lat</th>\n",
       "      <th>Lon</th>\n",
       "      <th>Hour</th>\n",
       "      <th>DayOfWeek</th>\n",
       "    </tr>\n",
       "  </thead>\n",
       "  <tbody>\n",
       "    <tr>\n",
       "      <th>308670</th>\n",
       "      <td>40.7306</td>\n",
       "      <td>-73.9862</td>\n",
       "      <td>17</td>\n",
       "      <td>5</td>\n",
       "    </tr>\n",
       "    <tr>\n",
       "      <th>134436</th>\n",
       "      <td>40.7188</td>\n",
       "      <td>-73.9976</td>\n",
       "      <td>17</td>\n",
       "      <td>5</td>\n",
       "    </tr>\n",
       "    <tr>\n",
       "      <th>58858</th>\n",
       "      <td>40.7461</td>\n",
       "      <td>-73.9841</td>\n",
       "      <td>17</td>\n",
       "      <td>5</td>\n",
       "    </tr>\n",
       "    <tr>\n",
       "      <th>95782</th>\n",
       "      <td>40.7212</td>\n",
       "      <td>-73.9877</td>\n",
       "      <td>17</td>\n",
       "      <td>5</td>\n",
       "    </tr>\n",
       "    <tr>\n",
       "      <th>517702</th>\n",
       "      <td>40.7467</td>\n",
       "      <td>-73.9901</td>\n",
       "      <td>17</td>\n",
       "      <td>5</td>\n",
       "    </tr>\n",
       "  </tbody>\n",
       "</table>\n",
       "</div>"
      ],
      "text/plain": [
       "            Lat      Lon  Hour  DayOfWeek\n",
       "308670  40.7306 -73.9862    17          5\n",
       "134436  40.7188 -73.9976    17          5\n",
       "58858   40.7461 -73.9841    17          5\n",
       "95782   40.7212 -73.9877    17          5\n",
       "517702  40.7467 -73.9901    17          5"
      ]
     },
     "execution_count": 52,
     "metadata": {},
     "output_type": "execute_result"
    }
   ],
   "source": [
    "df_saturday = df.sample(10000, random_state=0)\n",
    "df_saturday = df_saturday[df_saturday['DayOfWeek']== 5]\n",
    "df_saturday = df_saturday[df_saturday['Hour']== 17]\n",
    "df_saturday.head()"
   ]
  },
  {
   "cell_type": "code",
   "execution_count": 53,
   "metadata": {},
   "outputs": [
    {
     "data": {
      "text/plain": [
       "(88, 4)"
      ]
     },
     "execution_count": 53,
     "metadata": {},
     "output_type": "execute_result"
    }
   ],
   "source": [
    "df_saturday.shape"
   ]
  },
  {
   "cell_type": "code",
   "execution_count": 54,
   "metadata": {},
   "outputs": [
    {
     "name": "stdout",
     "output_type": "stream",
     "text": [
      "Creating numeric pipeline...\n",
      "... Done\n",
      "Creating categorical pipeline...\n",
      "... Done\n",
      "\n",
      "Preprocessing sur le train set...\n",
      "\n",
      "            Lat      Lon  Hour  DayOfWeek\n",
      "308670  40.7306 -73.9862    17          5\n",
      "134436  40.7188 -73.9976    17          5\n",
      "58858   40.7461 -73.9841    17          5\n",
      "95782   40.7212 -73.9877    17          5\n",
      "517702  40.7467 -73.9901    17          5\n",
      "\n",
      "...Done.\n",
      "\n",
      "[[-0.16669379 -0.21573237  0.        ]\n",
      " [-0.44547433 -0.43854995  0.        ]\n",
      " [ 0.19950098 -0.17468703  0.        ]\n",
      " [-0.3887732  -0.24505047  0.        ]\n",
      " [ 0.21367626 -0.29195944  0.        ]]\n",
      "\n"
     ]
    }
   ],
   "source": [
    "# Create pipeline for numeric features\n",
    "\n",
    "print(\"Creating numeric pipeline...\")\n",
    "numeric_features = [0,1,2] \n",
    "numeric_transformer = Pipeline(steps=[ ('scaler', StandardScaler())])\n",
    "print(\"... Done\")\n",
    "\n",
    "# Create pipeline for categorical features\n",
    "\n",
    "print(\"Creating categorical pipeline...\")\n",
    "categorical_features = [3]\n",
    "categorical_transformer = Pipeline(\n",
    "    steps=[('encoder', OneHotEncoder(drop='first'))])\n",
    "print(\"... Done\")\n",
    "\n",
    "# Use ColumnTransformer\n",
    "\n",
    "preprocessor = ColumnTransformer(\n",
    "    transformers=[\n",
    "        ('num', numeric_transformer, numeric_features),\n",
    "        ('cat', categorical_transformer, categorical_features)  \n",
    "    ])\n",
    "\n",
    "# Preprocessings on dataset\n",
    "print()\n",
    "print(\"Preprocessing sur le train set...\")\n",
    "print()\n",
    "print(df_saturday.head())\n",
    "X = preprocessor.fit_transform(df_saturday)\n",
    "print()\n",
    "print('...Done.')\n",
    "print()\n",
    "print(X[0:5, :])\n",
    "print()"
   ]
  },
  {
   "cell_type": "code",
   "execution_count": 55,
   "metadata": {},
   "outputs": [
    {
     "data": {
      "text/plain": [
       "DBSCAN(eps=0.2, metric='manhattan', min_samples=10)"
      ]
     },
     "execution_count": 55,
     "metadata": {},
     "output_type": "execute_result"
    }
   ],
   "source": [
    "# Instanciate DBSCAN \n",
    "\n",
    "db = DBSCAN(eps=0.2, min_samples=10, metric=\"manhattan\")\n",
    "db.fit(X)"
   ]
  },
  {
   "cell_type": "code",
   "execution_count": 56,
   "metadata": {},
   "outputs": [
    {
     "data": {
      "text/plain": [
       "array([-1,  0])"
      ]
     },
     "execution_count": 56,
     "metadata": {},
     "output_type": "execute_result"
    }
   ],
   "source": [
    "np.unique(db.labels_)"
   ]
  },
  {
   "cell_type": "code",
   "execution_count": 57,
   "metadata": {},
   "outputs": [
    {
     "data": {
      "text/html": [
       "<div>\n",
       "<style scoped>\n",
       "    .dataframe tbody tr th:only-of-type {\n",
       "        vertical-align: middle;\n",
       "    }\n",
       "\n",
       "    .dataframe tbody tr th {\n",
       "        vertical-align: top;\n",
       "    }\n",
       "\n",
       "    .dataframe thead th {\n",
       "        text-align: right;\n",
       "    }\n",
       "</style>\n",
       "<table border=\"1\" class=\"dataframe\">\n",
       "  <thead>\n",
       "    <tr style=\"text-align: right;\">\n",
       "      <th></th>\n",
       "      <th>Lat</th>\n",
       "      <th>Lon</th>\n",
       "      <th>Hour</th>\n",
       "      <th>DayOfWeek</th>\n",
       "      <th>cluster</th>\n",
       "    </tr>\n",
       "  </thead>\n",
       "  <tbody>\n",
       "    <tr>\n",
       "      <th>308670</th>\n",
       "      <td>40.7306</td>\n",
       "      <td>-73.9862</td>\n",
       "      <td>17</td>\n",
       "      <td>5</td>\n",
       "      <td>-1</td>\n",
       "    </tr>\n",
       "    <tr>\n",
       "      <th>134436</th>\n",
       "      <td>40.7188</td>\n",
       "      <td>-73.9976</td>\n",
       "      <td>17</td>\n",
       "      <td>5</td>\n",
       "      <td>0</td>\n",
       "    </tr>\n",
       "    <tr>\n",
       "      <th>58858</th>\n",
       "      <td>40.7461</td>\n",
       "      <td>-73.9841</td>\n",
       "      <td>17</td>\n",
       "      <td>5</td>\n",
       "      <td>-1</td>\n",
       "    </tr>\n",
       "    <tr>\n",
       "      <th>95782</th>\n",
       "      <td>40.7212</td>\n",
       "      <td>-73.9877</td>\n",
       "      <td>17</td>\n",
       "      <td>5</td>\n",
       "      <td>-1</td>\n",
       "    </tr>\n",
       "    <tr>\n",
       "      <th>517702</th>\n",
       "      <td>40.7467</td>\n",
       "      <td>-73.9901</td>\n",
       "      <td>17</td>\n",
       "      <td>5</td>\n",
       "      <td>-1</td>\n",
       "    </tr>\n",
       "  </tbody>\n",
       "</table>\n",
       "</div>"
      ],
      "text/plain": [
       "            Lat      Lon  Hour  DayOfWeek  cluster\n",
       "308670  40.7306 -73.9862    17          5       -1\n",
       "134436  40.7188 -73.9976    17          5        0\n",
       "58858   40.7461 -73.9841    17          5       -1\n",
       "95782   40.7212 -73.9877    17          5       -1\n",
       "517702  40.7467 -73.9901    17          5       -1"
      ]
     },
     "execution_count": 57,
     "metadata": {},
     "output_type": "execute_result"
    }
   ],
   "source": [
    "df_saturday[\"cluster\"] = db.labels_\n",
    "df_saturday.head()"
   ]
  },
  {
   "cell_type": "code",
   "execution_count": 58,
   "metadata": {},
   "outputs": [
    {
     "data": {
      "text/html": [
       "<iframe\n",
       "    scrolling=\"no\"\n",
       "    width=\"100%\"\n",
       "    height=\"545px\"\n",
       "    src=\"iframe_figures/figure_58.html\"\n",
       "    frameborder=\"0\"\n",
       "    allowfullscreen\n",
       "></iframe>\n"
      ]
     },
     "metadata": {},
     "output_type": "display_data"
    }
   ],
   "source": [
    "# Visualization clusters on a map\n",
    "\n",
    "fig = px.scatter_mapbox(\n",
    "        df_saturday[df_saturday.cluster != -1], \n",
    "        lat=\"Lat\", \n",
    "        lon=\"Lon\",\n",
    "        color=\"cluster\",\n",
    "        hover_name=\"cluster\",\n",
    "        mapbox_style=\"carto-positron\",\n",
    "        color_continuous_scale =\"viridis\",\n",
    "        zoom = 12\n",
    ")\n",
    "\n",
    "fig.show()"
   ]
  },
  {
   "cell_type": "markdown",
   "metadata": {},
   "source": [
    "For saturday at 17h, i found 1 clusters in Manhattan in Tribeca and Soho district"
   ]
  },
  {
   "cell_type": "markdown",
   "metadata": {},
   "source": [
    "#### For sunday"
   ]
  },
  {
   "cell_type": "code",
   "execution_count": 59,
   "metadata": {},
   "outputs": [
    {
     "data": {
      "text/html": [
       "<div>\n",
       "<style scoped>\n",
       "    .dataframe tbody tr th:only-of-type {\n",
       "        vertical-align: middle;\n",
       "    }\n",
       "\n",
       "    .dataframe tbody tr th {\n",
       "        vertical-align: top;\n",
       "    }\n",
       "\n",
       "    .dataframe thead th {\n",
       "        text-align: right;\n",
       "    }\n",
       "</style>\n",
       "<table border=\"1\" class=\"dataframe\">\n",
       "  <thead>\n",
       "    <tr style=\"text-align: right;\">\n",
       "      <th></th>\n",
       "      <th>Lat</th>\n",
       "      <th>Lon</th>\n",
       "      <th>Hour</th>\n",
       "      <th>DayOfWeek</th>\n",
       "    </tr>\n",
       "  </thead>\n",
       "  <tbody>\n",
       "    <tr>\n",
       "      <th>525584</th>\n",
       "      <td>40.7198</td>\n",
       "      <td>-73.9993</td>\n",
       "      <td>17</td>\n",
       "      <td>6</td>\n",
       "    </tr>\n",
       "    <tr>\n",
       "      <th>189416</th>\n",
       "      <td>40.7477</td>\n",
       "      <td>-73.9788</td>\n",
       "      <td>17</td>\n",
       "      <td>6</td>\n",
       "    </tr>\n",
       "    <tr>\n",
       "      <th>241099</th>\n",
       "      <td>40.7435</td>\n",
       "      <td>-73.9920</td>\n",
       "      <td>17</td>\n",
       "      <td>6</td>\n",
       "    </tr>\n",
       "    <tr>\n",
       "      <th>472812</th>\n",
       "      <td>40.7509</td>\n",
       "      <td>-73.9910</td>\n",
       "      <td>17</td>\n",
       "      <td>6</td>\n",
       "    </tr>\n",
       "    <tr>\n",
       "      <th>374512</th>\n",
       "      <td>40.7665</td>\n",
       "      <td>-73.9529</td>\n",
       "      <td>17</td>\n",
       "      <td>6</td>\n",
       "    </tr>\n",
       "  </tbody>\n",
       "</table>\n",
       "</div>"
      ],
      "text/plain": [
       "            Lat      Lon  Hour  DayOfWeek\n",
       "525584  40.7198 -73.9993    17          6\n",
       "189416  40.7477 -73.9788    17          6\n",
       "241099  40.7435 -73.9920    17          6\n",
       "472812  40.7509 -73.9910    17          6\n",
       "374512  40.7665 -73.9529    17          6"
      ]
     },
     "execution_count": 59,
     "metadata": {},
     "output_type": "execute_result"
    }
   ],
   "source": [
    "df_sunday = df.sample(10000, random_state=0)\n",
    "df_sunday = df_sunday[df_sunday['DayOfWeek']== 6]\n",
    "df_sunday = df_sunday[df_sunday['Hour']== 17]\n",
    "df_sunday.head()"
   ]
  },
  {
   "cell_type": "code",
   "execution_count": 60,
   "metadata": {},
   "outputs": [
    {
     "data": {
      "text/plain": [
       "(54, 4)"
      ]
     },
     "execution_count": 60,
     "metadata": {},
     "output_type": "execute_result"
    }
   ],
   "source": [
    "df_sunday.shape"
   ]
  },
  {
   "cell_type": "code",
   "execution_count": 61,
   "metadata": {},
   "outputs": [
    {
     "name": "stdout",
     "output_type": "stream",
     "text": [
      "Creating numeric pipeline...\n",
      "... Done\n",
      "Creating categorical pipeline...\n",
      "... Done\n",
      "\n",
      "Preprocessing sur le train set...\n",
      "\n",
      "            Lat      Lon  Hour  DayOfWeek\n",
      "525584  40.7198 -73.9993    17          6\n",
      "189416  40.7477 -73.9788    17          6\n",
      "241099  40.7435 -73.9920    17          6\n",
      "472812  40.7509 -73.9910    17          6\n",
      "374512  40.7665 -73.9529    17          6\n",
      "\n",
      "...Done.\n",
      "\n",
      "[[-0.34026588 -0.41530446  0.        ]\n",
      " [ 0.37893245 -0.06249805  0.        ]\n",
      " [ 0.27066604 -0.28967096  0.        ]\n",
      " [ 0.46142115 -0.27246089  0.        ]\n",
      " [ 0.86355355  0.38324274  0.        ]]\n",
      "\n"
     ]
    }
   ],
   "source": [
    "# Create pipeline for numeric features\n",
    "\n",
    "print(\"Creating numeric pipeline...\")\n",
    "numeric_features = [0,1,2] \n",
    "numeric_transformer = Pipeline(steps=[ ('scaler', StandardScaler())])\n",
    "print(\"... Done\")\n",
    "\n",
    "# Create pipeline for categorical features\n",
    "\n",
    "print(\"Creating categorical pipeline...\")\n",
    "categorical_features = [3]\n",
    "categorical_transformer = Pipeline(\n",
    "    steps=[('encoder', OneHotEncoder(drop='first'))])\n",
    "print(\"... Done\")\n",
    "\n",
    "# Use ColumnTransformer\n",
    "\n",
    "preprocessor = ColumnTransformer(\n",
    "    transformers=[\n",
    "        ('num', numeric_transformer, numeric_features),\n",
    "        ('cat', categorical_transformer, categorical_features)  \n",
    "    ])\n",
    "\n",
    "# Preprocessings on dataset\n",
    "print()\n",
    "print(\"Preprocessing sur le train set...\")\n",
    "print()\n",
    "print(df_sunday.head())\n",
    "X = preprocessor.fit_transform(df_sunday)\n",
    "print()\n",
    "print('...Done.')\n",
    "print()\n",
    "print(X[0:5, :])\n",
    "print()"
   ]
  },
  {
   "cell_type": "code",
   "execution_count": 62,
   "metadata": {},
   "outputs": [
    {
     "data": {
      "text/plain": [
       "DBSCAN(eps=0.2, metric='manhattan', min_samples=10)"
      ]
     },
     "execution_count": 62,
     "metadata": {},
     "output_type": "execute_result"
    }
   ],
   "source": [
    "# Instanciate DBSCAN \n",
    "\n",
    "db = DBSCAN(eps=0.2, min_samples=10, metric=\"manhattan\")\n",
    "db.fit(X)"
   ]
  },
  {
   "cell_type": "code",
   "execution_count": 63,
   "metadata": {},
   "outputs": [
    {
     "data": {
      "text/plain": [
       "array([-1])"
      ]
     },
     "execution_count": 63,
     "metadata": {},
     "output_type": "execute_result"
    }
   ],
   "source": [
    "np.unique(db.labels_)"
   ]
  },
  {
   "cell_type": "markdown",
   "metadata": {},
   "source": [
    "The previous parameters are not adapted for this day at this time. I have to modify them to find cluster."
   ]
  },
  {
   "cell_type": "code",
   "execution_count": 64,
   "metadata": {},
   "outputs": [
    {
     "data": {
      "text/plain": [
       "DBSCAN(eps=0.2, metric='manhattan')"
      ]
     },
     "execution_count": 64,
     "metadata": {},
     "output_type": "execute_result"
    }
   ],
   "source": [
    "db = DBSCAN(eps=0.2, min_samples=5, metric=\"manhattan\")\n",
    "db.fit(X)"
   ]
  },
  {
   "cell_type": "code",
   "execution_count": 65,
   "metadata": {},
   "outputs": [
    {
     "data": {
      "text/plain": [
       "array([-1,  0,  1])"
      ]
     },
     "execution_count": 65,
     "metadata": {},
     "output_type": "execute_result"
    }
   ],
   "source": [
    "np.unique(db.labels_)"
   ]
  },
  {
   "cell_type": "code",
   "execution_count": 66,
   "metadata": {},
   "outputs": [
    {
     "data": {
      "text/html": [
       "<div>\n",
       "<style scoped>\n",
       "    .dataframe tbody tr th:only-of-type {\n",
       "        vertical-align: middle;\n",
       "    }\n",
       "\n",
       "    .dataframe tbody tr th {\n",
       "        vertical-align: top;\n",
       "    }\n",
       "\n",
       "    .dataframe thead th {\n",
       "        text-align: right;\n",
       "    }\n",
       "</style>\n",
       "<table border=\"1\" class=\"dataframe\">\n",
       "  <thead>\n",
       "    <tr style=\"text-align: right;\">\n",
       "      <th></th>\n",
       "      <th>Lat</th>\n",
       "      <th>Lon</th>\n",
       "      <th>Hour</th>\n",
       "      <th>DayOfWeek</th>\n",
       "      <th>cluster</th>\n",
       "    </tr>\n",
       "  </thead>\n",
       "  <tbody>\n",
       "    <tr>\n",
       "      <th>525584</th>\n",
       "      <td>40.7198</td>\n",
       "      <td>-73.9993</td>\n",
       "      <td>17</td>\n",
       "      <td>6</td>\n",
       "      <td>0</td>\n",
       "    </tr>\n",
       "    <tr>\n",
       "      <th>189416</th>\n",
       "      <td>40.7477</td>\n",
       "      <td>-73.9788</td>\n",
       "      <td>17</td>\n",
       "      <td>6</td>\n",
       "      <td>1</td>\n",
       "    </tr>\n",
       "    <tr>\n",
       "      <th>241099</th>\n",
       "      <td>40.7435</td>\n",
       "      <td>-73.9920</td>\n",
       "      <td>17</td>\n",
       "      <td>6</td>\n",
       "      <td>-1</td>\n",
       "    </tr>\n",
       "    <tr>\n",
       "      <th>472812</th>\n",
       "      <td>40.7509</td>\n",
       "      <td>-73.9910</td>\n",
       "      <td>17</td>\n",
       "      <td>6</td>\n",
       "      <td>-1</td>\n",
       "    </tr>\n",
       "    <tr>\n",
       "      <th>374512</th>\n",
       "      <td>40.7665</td>\n",
       "      <td>-73.9529</td>\n",
       "      <td>17</td>\n",
       "      <td>6</td>\n",
       "      <td>-1</td>\n",
       "    </tr>\n",
       "  </tbody>\n",
       "</table>\n",
       "</div>"
      ],
      "text/plain": [
       "            Lat      Lon  Hour  DayOfWeek  cluster\n",
       "525584  40.7198 -73.9993    17          6        0\n",
       "189416  40.7477 -73.9788    17          6        1\n",
       "241099  40.7435 -73.9920    17          6       -1\n",
       "472812  40.7509 -73.9910    17          6       -1\n",
       "374512  40.7665 -73.9529    17          6       -1"
      ]
     },
     "execution_count": 66,
     "metadata": {},
     "output_type": "execute_result"
    }
   ],
   "source": [
    "df_sunday[\"cluster\"] = db.labels_\n",
    "df_sunday.head()"
   ]
  },
  {
   "cell_type": "code",
   "execution_count": 67,
   "metadata": {},
   "outputs": [
    {
     "data": {
      "text/html": [
       "<iframe\n",
       "    scrolling=\"no\"\n",
       "    width=\"100%\"\n",
       "    height=\"545px\"\n",
       "    src=\"iframe_figures/figure_67.html\"\n",
       "    frameborder=\"0\"\n",
       "    allowfullscreen\n",
       "></iframe>\n"
      ]
     },
     "metadata": {},
     "output_type": "display_data"
    }
   ],
   "source": [
    "# Visualization clusters on a map\n",
    "\n",
    "fig = px.scatter_mapbox(\n",
    "        df_sunday[df_sunday.cluster != -1], \n",
    "        lat=\"Lat\", \n",
    "        lon=\"Lon\",\n",
    "        color=\"cluster\",\n",
    "        hover_name=\"cluster\",\n",
    "        mapbox_style=\"carto-positron\",\n",
    "        color_continuous_scale =\"viridis\",\n",
    "        zoom = 12\n",
    ")\n",
    "\n",
    "fig.show()"
   ]
  },
  {
   "cell_type": "markdown",
   "metadata": {},
   "source": [
    "For sunday at 17h, i found 2 clusters in Manhattan. The first in Soho and the second in Murray Hill"
   ]
  },
  {
   "cell_type": "markdown",
   "metadata": {},
   "source": [
    "## Part 5 : Generalize to every day of week"
   ]
  },
  {
   "cell_type": "markdown",
   "metadata": {},
   "source": [
    "#### For monday"
   ]
  },
  {
   "cell_type": "code",
   "execution_count": 68,
   "metadata": {},
   "outputs": [],
   "source": [
    "df_all_monday = df.sample(10000, random_state=0)\n",
    "df_all_monday = df_all_monday[df_all_monday['DayOfWeek']== 0]"
   ]
  },
  {
   "cell_type": "code",
   "execution_count": 69,
   "metadata": {},
   "outputs": [
    {
     "data": {
      "text/html": [
       "<div>\n",
       "<style scoped>\n",
       "    .dataframe tbody tr th:only-of-type {\n",
       "        vertical-align: middle;\n",
       "    }\n",
       "\n",
       "    .dataframe tbody tr th {\n",
       "        vertical-align: top;\n",
       "    }\n",
       "\n",
       "    .dataframe thead th {\n",
       "        text-align: right;\n",
       "    }\n",
       "</style>\n",
       "<table border=\"1\" class=\"dataframe\">\n",
       "  <thead>\n",
       "    <tr style=\"text-align: right;\">\n",
       "      <th></th>\n",
       "      <th>Lat</th>\n",
       "      <th>Lon</th>\n",
       "      <th>Hour</th>\n",
       "      <th>DayOfWeek</th>\n",
       "    </tr>\n",
       "  </thead>\n",
       "  <tbody>\n",
       "    <tr>\n",
       "      <th>377815</th>\n",
       "      <td>40.7818</td>\n",
       "      <td>-73.9561</td>\n",
       "      <td>9</td>\n",
       "      <td>0</td>\n",
       "    </tr>\n",
       "    <tr>\n",
       "      <th>529279</th>\n",
       "      <td>40.7311</td>\n",
       "      <td>-73.9841</td>\n",
       "      <td>11</td>\n",
       "      <td>0</td>\n",
       "    </tr>\n",
       "    <tr>\n",
       "      <th>430050</th>\n",
       "      <td>40.7743</td>\n",
       "      <td>-73.9630</td>\n",
       "      <td>14</td>\n",
       "      <td>0</td>\n",
       "    </tr>\n",
       "    <tr>\n",
       "      <th>105728</th>\n",
       "      <td>40.7486</td>\n",
       "      <td>-73.9909</td>\n",
       "      <td>18</td>\n",
       "      <td>0</td>\n",
       "    </tr>\n",
       "    <tr>\n",
       "      <th>382258</th>\n",
       "      <td>40.7392</td>\n",
       "      <td>-73.9870</td>\n",
       "      <td>19</td>\n",
       "      <td>0</td>\n",
       "    </tr>\n",
       "  </tbody>\n",
       "</table>\n",
       "</div>"
      ],
      "text/plain": [
       "            Lat      Lon  Hour  DayOfWeek\n",
       "377815  40.7818 -73.9561     9          0\n",
       "529279  40.7311 -73.9841    11          0\n",
       "430050  40.7743 -73.9630    14          0\n",
       "105728  40.7486 -73.9909    18          0\n",
       "382258  40.7392 -73.9870    19          0"
      ]
     },
     "execution_count": 69,
     "metadata": {},
     "output_type": "execute_result"
    }
   ],
   "source": [
    "df_all_monday.head()"
   ]
  },
  {
   "cell_type": "code",
   "execution_count": 70,
   "metadata": {},
   "outputs": [
    {
     "data": {
      "text/plain": [
       "(1099, 4)"
      ]
     },
     "execution_count": 70,
     "metadata": {},
     "output_type": "execute_result"
    }
   ],
   "source": [
    "df_all_monday.shape"
   ]
  },
  {
   "cell_type": "code",
   "execution_count": 71,
   "metadata": {},
   "outputs": [
    {
     "name": "stdout",
     "output_type": "stream",
     "text": [
      "Creating numeric pipeline...\n",
      "... Done\n",
      "Creating categorical pipeline...\n",
      "... Done\n",
      "\n",
      "Preprocessing sur le train set...\n",
      "\n",
      "            Lat      Lon  Hour  DayOfWeek\n",
      "377815  40.7818 -73.9561     9          0\n",
      "529279  40.7311 -73.9841    11          0\n",
      "430050  40.7743 -73.9630    14          0\n",
      "105728  40.7486 -73.9909    18          0\n",
      "382258  40.7392 -73.9870    19          0\n",
      "\n",
      "...Done.\n",
      "\n",
      "[[ 0.92679218  0.22404626 -0.8997545 ]\n",
      " [-0.28510074 -0.21831335 -0.53406286]\n",
      " [ 0.74751808  0.11503621  0.0144746 ]\n",
      " [ 0.1332055  -0.32574354  0.74585788]\n",
      " [-0.09148471 -0.26412917  0.9287037 ]]\n",
      "\n"
     ]
    }
   ],
   "source": [
    "# Create pipeline for numeric features\n",
    "\n",
    "print(\"Creating numeric pipeline...\")\n",
    "numeric_features = [0,1,2] \n",
    "numeric_transformer = Pipeline(steps=[ ('scaler', StandardScaler())])\n",
    "print(\"... Done\")\n",
    "\n",
    "# Create pipeline for categorical features\n",
    "\n",
    "print(\"Creating categorical pipeline...\")\n",
    "categorical_features = [3]\n",
    "categorical_transformer = Pipeline(\n",
    "    steps=[('encoder', OneHotEncoder(drop='first'))])\n",
    "print(\"... Done\")\n",
    "\n",
    "# Use ColumnTransformer\n",
    "\n",
    "preprocessor = ColumnTransformer(\n",
    "    transformers=[\n",
    "        ('num', numeric_transformer, numeric_features),\n",
    "        ('cat', categorical_transformer, categorical_features)  \n",
    "    ])\n",
    "\n",
    "# Preprocessings on dataset\n",
    "print()\n",
    "print(\"Preprocessing sur le train set...\")\n",
    "print()\n",
    "print(df_all_monday.head())\n",
    "X = preprocessor.fit_transform(df_all_monday)\n",
    "print()\n",
    "print('...Done.')\n",
    "print()\n",
    "print(X[0:5, :])\n",
    "print()"
   ]
  },
  {
   "cell_type": "code",
   "execution_count": 72,
   "metadata": {},
   "outputs": [
    {
     "data": {
      "text/plain": [
       "DBSCAN(eps=0.2, metric='manhattan', min_samples=12)"
      ]
     },
     "execution_count": 72,
     "metadata": {},
     "output_type": "execute_result"
    }
   ],
   "source": [
    "# Instanciate DBSCAN \n",
    "\n",
    "db = DBSCAN(eps=0.2, min_samples=12, metric=\"manhattan\")\n",
    "db.fit(X)"
   ]
  },
  {
   "cell_type": "code",
   "execution_count": 73,
   "metadata": {},
   "outputs": [
    {
     "data": {
      "text/plain": [
       "array([-1,  0,  1,  2])"
      ]
     },
     "execution_count": 73,
     "metadata": {},
     "output_type": "execute_result"
    }
   ],
   "source": [
    "np.unique(db.labels_)"
   ]
  },
  {
   "cell_type": "code",
   "execution_count": 74,
   "metadata": {},
   "outputs": [
    {
     "data": {
      "text/html": [
       "<div>\n",
       "<style scoped>\n",
       "    .dataframe tbody tr th:only-of-type {\n",
       "        vertical-align: middle;\n",
       "    }\n",
       "\n",
       "    .dataframe tbody tr th {\n",
       "        vertical-align: top;\n",
       "    }\n",
       "\n",
       "    .dataframe thead th {\n",
       "        text-align: right;\n",
       "    }\n",
       "</style>\n",
       "<table border=\"1\" class=\"dataframe\">\n",
       "  <thead>\n",
       "    <tr style=\"text-align: right;\">\n",
       "      <th></th>\n",
       "      <th>Lat</th>\n",
       "      <th>Lon</th>\n",
       "      <th>Hour</th>\n",
       "      <th>DayOfWeek</th>\n",
       "      <th>cluster</th>\n",
       "    </tr>\n",
       "  </thead>\n",
       "  <tbody>\n",
       "    <tr>\n",
       "      <th>377815</th>\n",
       "      <td>40.7818</td>\n",
       "      <td>-73.9561</td>\n",
       "      <td>9</td>\n",
       "      <td>0</td>\n",
       "      <td>-1</td>\n",
       "    </tr>\n",
       "    <tr>\n",
       "      <th>529279</th>\n",
       "      <td>40.7311</td>\n",
       "      <td>-73.9841</td>\n",
       "      <td>11</td>\n",
       "      <td>0</td>\n",
       "      <td>-1</td>\n",
       "    </tr>\n",
       "    <tr>\n",
       "      <th>430050</th>\n",
       "      <td>40.7743</td>\n",
       "      <td>-73.9630</td>\n",
       "      <td>14</td>\n",
       "      <td>0</td>\n",
       "      <td>-1</td>\n",
       "    </tr>\n",
       "    <tr>\n",
       "      <th>105728</th>\n",
       "      <td>40.7486</td>\n",
       "      <td>-73.9909</td>\n",
       "      <td>18</td>\n",
       "      <td>0</td>\n",
       "      <td>-1</td>\n",
       "    </tr>\n",
       "    <tr>\n",
       "      <th>382258</th>\n",
       "      <td>40.7392</td>\n",
       "      <td>-73.9870</td>\n",
       "      <td>19</td>\n",
       "      <td>0</td>\n",
       "      <td>-1</td>\n",
       "    </tr>\n",
       "  </tbody>\n",
       "</table>\n",
       "</div>"
      ],
      "text/plain": [
       "            Lat      Lon  Hour  DayOfWeek  cluster\n",
       "377815  40.7818 -73.9561     9          0       -1\n",
       "529279  40.7311 -73.9841    11          0       -1\n",
       "430050  40.7743 -73.9630    14          0       -1\n",
       "105728  40.7486 -73.9909    18          0       -1\n",
       "382258  40.7392 -73.9870    19          0       -1"
      ]
     },
     "execution_count": 74,
     "metadata": {},
     "output_type": "execute_result"
    }
   ],
   "source": [
    "df_all_monday[\"cluster\"] = db.labels_\n",
    "df_all_monday.head()"
   ]
  },
  {
   "cell_type": "code",
   "execution_count": 75,
   "metadata": {},
   "outputs": [
    {
     "data": {
      "text/html": [
       "<iframe\n",
       "    scrolling=\"no\"\n",
       "    width=\"100%\"\n",
       "    height=\"545px\"\n",
       "    src=\"iframe_figures/figure_75.html\"\n",
       "    frameborder=\"0\"\n",
       "    allowfullscreen\n",
       "></iframe>\n"
      ]
     },
     "metadata": {},
     "output_type": "display_data"
    }
   ],
   "source": [
    "# Visualization clusters on a map\n",
    "\n",
    "fig = px.scatter_mapbox(\n",
    "        df_all_monday[df_all_monday.cluster != -1], \n",
    "        lat=\"Lat\", \n",
    "        lon=\"Lon\",\n",
    "        color=\"cluster\",\n",
    "        hover_name=\"cluster\",\n",
    "        mapbox_style=\"carto-positron\",\n",
    "        color_continuous_scale =\"viridis\",\n",
    "        zoom = 11\n",
    ")\n",
    "\n",
    "fig.show()"
   ]
  },
  {
   "cell_type": "markdown",
   "metadata": {},
   "source": [
    "For monday's day, i found 3 clusters in Manhattan. The first in Midtown (Midtown East,Murray Hill and Garment District), the second also in Midtown (Flatiron District, Chelsea East and Midtown east) and the third in Soho."
   ]
  },
  {
   "cell_type": "markdown",
   "metadata": {},
   "source": [
    "#### For tuesday"
   ]
  },
  {
   "cell_type": "code",
   "execution_count": 76,
   "metadata": {},
   "outputs": [],
   "source": [
    "df_all_tuesday = df.sample(10000, random_state=0)\n",
    "df_all_tuesday = df_all_tuesday[df_all_tuesday['DayOfWeek']== 1]"
   ]
  },
  {
   "cell_type": "code",
   "execution_count": 77,
   "metadata": {},
   "outputs": [
    {
     "data": {
      "text/html": [
       "<div>\n",
       "<style scoped>\n",
       "    .dataframe tbody tr th:only-of-type {\n",
       "        vertical-align: middle;\n",
       "    }\n",
       "\n",
       "    .dataframe tbody tr th {\n",
       "        vertical-align: top;\n",
       "    }\n",
       "\n",
       "    .dataframe thead th {\n",
       "        text-align: right;\n",
       "    }\n",
       "</style>\n",
       "<table border=\"1\" class=\"dataframe\">\n",
       "  <thead>\n",
       "    <tr style=\"text-align: right;\">\n",
       "      <th></th>\n",
       "      <th>Lat</th>\n",
       "      <th>Lon</th>\n",
       "      <th>Hour</th>\n",
       "      <th>DayOfWeek</th>\n",
       "    </tr>\n",
       "  </thead>\n",
       "  <tbody>\n",
       "    <tr>\n",
       "      <th>440591</th>\n",
       "      <td>40.7212</td>\n",
       "      <td>-74.0011</td>\n",
       "      <td>21</td>\n",
       "      <td>1</td>\n",
       "    </tr>\n",
       "    <tr>\n",
       "      <th>219003</th>\n",
       "      <td>40.7145</td>\n",
       "      <td>-74.0085</td>\n",
       "      <td>6</td>\n",
       "      <td>1</td>\n",
       "    </tr>\n",
       "    <tr>\n",
       "      <th>438222</th>\n",
       "      <td>40.7432</td>\n",
       "      <td>-73.9934</td>\n",
       "      <td>18</td>\n",
       "      <td>1</td>\n",
       "    </tr>\n",
       "    <tr>\n",
       "      <th>484249</th>\n",
       "      <td>40.7689</td>\n",
       "      <td>-73.9607</td>\n",
       "      <td>18</td>\n",
       "      <td>1</td>\n",
       "    </tr>\n",
       "    <tr>\n",
       "      <th>435079</th>\n",
       "      <td>40.7980</td>\n",
       "      <td>-73.9735</td>\n",
       "      <td>11</td>\n",
       "      <td>1</td>\n",
       "    </tr>\n",
       "  </tbody>\n",
       "</table>\n",
       "</div>"
      ],
      "text/plain": [
       "            Lat      Lon  Hour  DayOfWeek\n",
       "440591  40.7212 -74.0011    21          1\n",
       "219003  40.7145 -74.0085     6          1\n",
       "438222  40.7432 -73.9934    18          1\n",
       "484249  40.7689 -73.9607    18          1\n",
       "435079  40.7980 -73.9735    11          1"
      ]
     },
     "execution_count": 77,
     "metadata": {},
     "output_type": "execute_result"
    }
   ],
   "source": [
    "df_all_tuesday.head()"
   ]
  },
  {
   "cell_type": "code",
   "execution_count": 78,
   "metadata": {},
   "outputs": [
    {
     "data": {
      "text/plain": [
       "(1648, 4)"
      ]
     },
     "execution_count": 78,
     "metadata": {},
     "output_type": "execute_result"
    }
   ],
   "source": [
    "df_all_tuesday.shape"
   ]
  },
  {
   "cell_type": "code",
   "execution_count": 79,
   "metadata": {},
   "outputs": [
    {
     "name": "stdout",
     "output_type": "stream",
     "text": [
      "Creating numeric pipeline...\n",
      "... Done\n",
      "Creating categorical pipeline...\n",
      "... Done\n",
      "\n",
      "Preprocessing sur le train set...\n",
      "\n",
      "            Lat      Lon  Hour  DayOfWeek\n",
      "440591  40.7212 -74.0011    21          1\n",
      "219003  40.7145 -74.0085     6          1\n",
      "438222  40.7432 -73.9934    18          1\n",
      "484249  40.7689 -73.9607    18          1\n",
      "435079  40.7980 -73.9735    11          1\n",
      "\n",
      "...Done.\n",
      "\n",
      "[[-0.60564831 -0.50750026  1.20619372]\n",
      " [-0.80203806 -0.6759859  -1.58828695]\n",
      " [ 0.03921356 -0.33218412  0.64729759]\n",
      " [ 0.79252948  0.41234025  0.64729759]\n",
      " [ 1.64550587  0.12090563 -0.65679339]]\n",
      "\n"
     ]
    }
   ],
   "source": [
    "# Create pipeline for numeric features\n",
    "\n",
    "print(\"Creating numeric pipeline...\")\n",
    "numeric_features = [0,1,2] \n",
    "numeric_transformer = Pipeline(steps=[ ('scaler', StandardScaler())])\n",
    "print(\"... Done\")\n",
    "\n",
    "# Create pipeline for categorical features\n",
    "\n",
    "print(\"Creating categorical pipeline...\")\n",
    "categorical_features = [3]\n",
    "categorical_transformer = Pipeline(\n",
    "    steps=[('encoder', OneHotEncoder(drop='first'))])\n",
    "print(\"... Done\")\n",
    "\n",
    "# Use ColumnTransformer\n",
    "\n",
    "preprocessor = ColumnTransformer(\n",
    "    transformers=[\n",
    "        ('num', numeric_transformer, numeric_features),\n",
    "        ('cat', categorical_transformer, categorical_features)  \n",
    "    ])\n",
    "\n",
    "# Preprocessings on dataset\n",
    "print()\n",
    "print(\"Preprocessing sur le train set...\")\n",
    "print()\n",
    "print(df_all_tuesday.head())\n",
    "X = preprocessor.fit_transform(df_all_tuesday)\n",
    "print()\n",
    "print('...Done.')\n",
    "print()\n",
    "print(X[0:5, :])\n",
    "print()"
   ]
  },
  {
   "cell_type": "code",
   "execution_count": 80,
   "metadata": {},
   "outputs": [
    {
     "data": {
      "text/plain": [
       "DBSCAN(eps=0.2, metric='manhattan', min_samples=15)"
      ]
     },
     "execution_count": 80,
     "metadata": {},
     "output_type": "execute_result"
    }
   ],
   "source": [
    "# Instanciate DBSCAN \n",
    "\n",
    "db = DBSCAN(eps=0.2, min_samples=15, metric=\"manhattan\")\n",
    "db.fit(X)"
   ]
  },
  {
   "cell_type": "code",
   "execution_count": 81,
   "metadata": {},
   "outputs": [
    {
     "data": {
      "text/plain": [
       "array([-1,  0,  1,  2])"
      ]
     },
     "execution_count": 81,
     "metadata": {},
     "output_type": "execute_result"
    }
   ],
   "source": [
    "np.unique(db.labels_)"
   ]
  },
  {
   "cell_type": "code",
   "execution_count": 82,
   "metadata": {},
   "outputs": [
    {
     "data": {
      "text/html": [
       "<div>\n",
       "<style scoped>\n",
       "    .dataframe tbody tr th:only-of-type {\n",
       "        vertical-align: middle;\n",
       "    }\n",
       "\n",
       "    .dataframe tbody tr th {\n",
       "        vertical-align: top;\n",
       "    }\n",
       "\n",
       "    .dataframe thead th {\n",
       "        text-align: right;\n",
       "    }\n",
       "</style>\n",
       "<table border=\"1\" class=\"dataframe\">\n",
       "  <thead>\n",
       "    <tr style=\"text-align: right;\">\n",
       "      <th></th>\n",
       "      <th>Lat</th>\n",
       "      <th>Lon</th>\n",
       "      <th>Hour</th>\n",
       "      <th>DayOfWeek</th>\n",
       "      <th>cluster</th>\n",
       "    </tr>\n",
       "  </thead>\n",
       "  <tbody>\n",
       "    <tr>\n",
       "      <th>440591</th>\n",
       "      <td>40.7212</td>\n",
       "      <td>-74.0011</td>\n",
       "      <td>21</td>\n",
       "      <td>1</td>\n",
       "      <td>-1</td>\n",
       "    </tr>\n",
       "    <tr>\n",
       "      <th>219003</th>\n",
       "      <td>40.7145</td>\n",
       "      <td>-74.0085</td>\n",
       "      <td>6</td>\n",
       "      <td>1</td>\n",
       "      <td>-1</td>\n",
       "    </tr>\n",
       "    <tr>\n",
       "      <th>438222</th>\n",
       "      <td>40.7432</td>\n",
       "      <td>-73.9934</td>\n",
       "      <td>18</td>\n",
       "      <td>1</td>\n",
       "      <td>1</td>\n",
       "    </tr>\n",
       "    <tr>\n",
       "      <th>484249</th>\n",
       "      <td>40.7689</td>\n",
       "      <td>-73.9607</td>\n",
       "      <td>18</td>\n",
       "      <td>1</td>\n",
       "      <td>-1</td>\n",
       "    </tr>\n",
       "    <tr>\n",
       "      <th>435079</th>\n",
       "      <td>40.7980</td>\n",
       "      <td>-73.9735</td>\n",
       "      <td>11</td>\n",
       "      <td>1</td>\n",
       "      <td>-1</td>\n",
       "    </tr>\n",
       "  </tbody>\n",
       "</table>\n",
       "</div>"
      ],
      "text/plain": [
       "            Lat      Lon  Hour  DayOfWeek  cluster\n",
       "440591  40.7212 -74.0011    21          1       -1\n",
       "219003  40.7145 -74.0085     6          1       -1\n",
       "438222  40.7432 -73.9934    18          1        1\n",
       "484249  40.7689 -73.9607    18          1       -1\n",
       "435079  40.7980 -73.9735    11          1       -1"
      ]
     },
     "execution_count": 82,
     "metadata": {},
     "output_type": "execute_result"
    }
   ],
   "source": [
    "df_all_tuesday[\"cluster\"] = db.labels_\n",
    "df_all_tuesday.head()"
   ]
  },
  {
   "cell_type": "code",
   "execution_count": 83,
   "metadata": {},
   "outputs": [
    {
     "data": {
      "text/html": [
       "<iframe\n",
       "    scrolling=\"no\"\n",
       "    width=\"100%\"\n",
       "    height=\"545px\"\n",
       "    src=\"iframe_figures/figure_83.html\"\n",
       "    frameborder=\"0\"\n",
       "    allowfullscreen\n",
       "></iframe>\n"
      ]
     },
     "metadata": {},
     "output_type": "display_data"
    }
   ],
   "source": [
    "# Visualization clusters on a map\n",
    "\n",
    "fig = px.scatter_mapbox(\n",
    "        df_all_tuesday[df_all_tuesday.cluster != -1], \n",
    "        lat=\"Lat\", \n",
    "        lon=\"Lon\",\n",
    "        color=\"cluster\",\n",
    "        hover_name=\"cluster\",\n",
    "        mapbox_style=\"carto-positron\",\n",
    "        color_continuous_scale =\"viridis\",\n",
    "        zoom = 11\n",
    ")\n",
    "\n",
    "fig.show()"
   ]
  },
  {
   "cell_type": "markdown",
   "metadata": {},
   "source": [
    "For tuesday's day, i found 3 clusters in Manhattan. The first in Midtown (Midtown East,Murray Hill and Garment District), the second also in Midtown (Flatiron District,Chelsea East and Midtown east) and the third in Soho."
   ]
  },
  {
   "cell_type": "markdown",
   "metadata": {},
   "source": [
    "#### For wednesday"
   ]
  },
  {
   "cell_type": "code",
   "execution_count": 84,
   "metadata": {},
   "outputs": [],
   "source": [
    "df_all_wednesday = df.sample(10000, random_state=0)\n",
    "df_all_wednesday = df_all_wednesday[df_all_wednesday['DayOfWeek']== 2]"
   ]
  },
  {
   "cell_type": "code",
   "execution_count": 85,
   "metadata": {},
   "outputs": [
    {
     "data": {
      "text/html": [
       "<div>\n",
       "<style scoped>\n",
       "    .dataframe tbody tr th:only-of-type {\n",
       "        vertical-align: middle;\n",
       "    }\n",
       "\n",
       "    .dataframe tbody tr th {\n",
       "        vertical-align: top;\n",
       "    }\n",
       "\n",
       "    .dataframe thead th {\n",
       "        text-align: right;\n",
       "    }\n",
       "</style>\n",
       "<table border=\"1\" class=\"dataframe\">\n",
       "  <thead>\n",
       "    <tr style=\"text-align: right;\">\n",
       "      <th></th>\n",
       "      <th>Lat</th>\n",
       "      <th>Lon</th>\n",
       "      <th>Hour</th>\n",
       "      <th>DayOfWeek</th>\n",
       "    </tr>\n",
       "  </thead>\n",
       "  <tbody>\n",
       "    <tr>\n",
       "      <th>216098</th>\n",
       "      <td>40.7555</td>\n",
       "      <td>-73.9917</td>\n",
       "      <td>20</td>\n",
       "      <td>2</td>\n",
       "    </tr>\n",
       "    <tr>\n",
       "      <th>544773</th>\n",
       "      <td>40.7276</td>\n",
       "      <td>-73.9530</td>\n",
       "      <td>11</td>\n",
       "      <td>2</td>\n",
       "    </tr>\n",
       "    <tr>\n",
       "      <th>295739</th>\n",
       "      <td>40.7537</td>\n",
       "      <td>-73.9807</td>\n",
       "      <td>16</td>\n",
       "      <td>2</td>\n",
       "    </tr>\n",
       "    <tr>\n",
       "      <th>153414</th>\n",
       "      <td>40.7230</td>\n",
       "      <td>-73.9987</td>\n",
       "      <td>13</td>\n",
       "      <td>2</td>\n",
       "    </tr>\n",
       "    <tr>\n",
       "      <th>250316</th>\n",
       "      <td>40.7767</td>\n",
       "      <td>-73.9531</td>\n",
       "      <td>11</td>\n",
       "      <td>2</td>\n",
       "    </tr>\n",
       "  </tbody>\n",
       "</table>\n",
       "</div>"
      ],
      "text/plain": [
       "            Lat      Lon  Hour  DayOfWeek\n",
       "216098  40.7555 -73.9917    20          2\n",
       "544773  40.7276 -73.9530    11          2\n",
       "295739  40.7537 -73.9807    16          2\n",
       "153414  40.7230 -73.9987    13          2\n",
       "250316  40.7767 -73.9531    11          2"
      ]
     },
     "execution_count": 85,
     "metadata": {},
     "output_type": "execute_result"
    }
   ],
   "source": [
    "df_all_wednesday.head()"
   ]
  },
  {
   "cell_type": "code",
   "execution_count": 86,
   "metadata": {},
   "outputs": [
    {
     "data": {
      "text/plain": [
       "(1932, 4)"
      ]
     },
     "execution_count": 86,
     "metadata": {},
     "output_type": "execute_result"
    }
   ],
   "source": [
    "df_all_wednesday.shape"
   ]
  },
  {
   "cell_type": "code",
   "execution_count": 87,
   "metadata": {},
   "outputs": [
    {
     "name": "stdout",
     "output_type": "stream",
     "text": [
      "Creating numeric pipeline...\n",
      "... Done\n",
      "Creating categorical pipeline...\n",
      "... Done\n",
      "\n",
      "Preprocessing sur le train set...\n",
      "\n",
      "            Lat      Lon  Hour  DayOfWeek\n",
      "216098  40.7555 -73.9917    20          2\n",
      "544773  40.7276 -73.9530    11          2\n",
      "295739  40.7537 -73.9807    16          2\n",
      "153414  40.7230 -73.9987    13          2\n",
      "250316  40.7767 -73.9531    11          2\n",
      "\n",
      "...Done.\n",
      "\n",
      "[[ 0.38918288 -0.31527897  1.00047312]\n",
      " [-0.43179216  0.49971847 -0.70353575]\n",
      " [ 0.33621675 -0.08362596  0.24313584]\n",
      " [-0.56715005 -0.46269453 -0.32486712]\n",
      " [ 1.01300621  0.49761253 -0.70353575]]\n",
      "\n"
     ]
    }
   ],
   "source": [
    "# Create pipeline for numeric features\n",
    "\n",
    "print(\"Creating numeric pipeline...\")\n",
    "numeric_features = [0,1,2] \n",
    "numeric_transformer = Pipeline(steps=[ ('scaler', StandardScaler())])\n",
    "print(\"... Done\")\n",
    "\n",
    "# Create pipeline for categorical features\n",
    "\n",
    "print(\"Creating categorical pipeline...\")\n",
    "categorical_features = [3]\n",
    "categorical_transformer = Pipeline(\n",
    "    steps=[('encoder', OneHotEncoder(drop='first'))])\n",
    "print(\"... Done\")\n",
    "\n",
    "# Use ColumnTransformer\n",
    "\n",
    "preprocessor = ColumnTransformer(\n",
    "    transformers=[\n",
    "        ('num', numeric_transformer, numeric_features),\n",
    "        ('cat', categorical_transformer, categorical_features)  \n",
    "    ])\n",
    "\n",
    "# Preprocessings on dataset\n",
    "print()\n",
    "print(\"Preprocessing sur le train set...\")\n",
    "print()\n",
    "print(df_all_wednesday.head())\n",
    "X = preprocessor.fit_transform(df_all_wednesday)\n",
    "print()\n",
    "print('...Done.')\n",
    "print()\n",
    "print(X[0:5, :])\n",
    "print()"
   ]
  },
  {
   "cell_type": "code",
   "execution_count": 88,
   "metadata": {},
   "outputs": [
    {
     "data": {
      "text/plain": [
       "DBSCAN(eps=0.2, metric='manhattan', min_samples=14)"
      ]
     },
     "execution_count": 88,
     "metadata": {},
     "output_type": "execute_result"
    }
   ],
   "source": [
    "# Instanciate DBSCAN \n",
    "\n",
    "db = DBSCAN(eps=0.2, min_samples=14, metric=\"manhattan\")\n",
    "db.fit(X)"
   ]
  },
  {
   "cell_type": "code",
   "execution_count": 89,
   "metadata": {},
   "outputs": [
    {
     "data": {
      "text/plain": [
       "array([-1,  0,  1,  2])"
      ]
     },
     "execution_count": 89,
     "metadata": {},
     "output_type": "execute_result"
    }
   ],
   "source": [
    "np.unique(db.labels_)"
   ]
  },
  {
   "cell_type": "code",
   "execution_count": 90,
   "metadata": {},
   "outputs": [
    {
     "data": {
      "text/html": [
       "<div>\n",
       "<style scoped>\n",
       "    .dataframe tbody tr th:only-of-type {\n",
       "        vertical-align: middle;\n",
       "    }\n",
       "\n",
       "    .dataframe tbody tr th {\n",
       "        vertical-align: top;\n",
       "    }\n",
       "\n",
       "    .dataframe thead th {\n",
       "        text-align: right;\n",
       "    }\n",
       "</style>\n",
       "<table border=\"1\" class=\"dataframe\">\n",
       "  <thead>\n",
       "    <tr style=\"text-align: right;\">\n",
       "      <th></th>\n",
       "      <th>Lat</th>\n",
       "      <th>Lon</th>\n",
       "      <th>Hour</th>\n",
       "      <th>DayOfWeek</th>\n",
       "      <th>cluster</th>\n",
       "    </tr>\n",
       "  </thead>\n",
       "  <tbody>\n",
       "    <tr>\n",
       "      <th>216098</th>\n",
       "      <td>40.7555</td>\n",
       "      <td>-73.9917</td>\n",
       "      <td>20</td>\n",
       "      <td>2</td>\n",
       "      <td>0</td>\n",
       "    </tr>\n",
       "    <tr>\n",
       "      <th>544773</th>\n",
       "      <td>40.7276</td>\n",
       "      <td>-73.9530</td>\n",
       "      <td>11</td>\n",
       "      <td>2</td>\n",
       "      <td>-1</td>\n",
       "    </tr>\n",
       "    <tr>\n",
       "      <th>295739</th>\n",
       "      <td>40.7537</td>\n",
       "      <td>-73.9807</td>\n",
       "      <td>16</td>\n",
       "      <td>2</td>\n",
       "      <td>0</td>\n",
       "    </tr>\n",
       "    <tr>\n",
       "      <th>153414</th>\n",
       "      <td>40.7230</td>\n",
       "      <td>-73.9987</td>\n",
       "      <td>13</td>\n",
       "      <td>2</td>\n",
       "      <td>-1</td>\n",
       "    </tr>\n",
       "    <tr>\n",
       "      <th>250316</th>\n",
       "      <td>40.7767</td>\n",
       "      <td>-73.9531</td>\n",
       "      <td>11</td>\n",
       "      <td>2</td>\n",
       "      <td>-1</td>\n",
       "    </tr>\n",
       "  </tbody>\n",
       "</table>\n",
       "</div>"
      ],
      "text/plain": [
       "            Lat      Lon  Hour  DayOfWeek  cluster\n",
       "216098  40.7555 -73.9917    20          2        0\n",
       "544773  40.7276 -73.9530    11          2       -1\n",
       "295739  40.7537 -73.9807    16          2        0\n",
       "153414  40.7230 -73.9987    13          2       -1\n",
       "250316  40.7767 -73.9531    11          2       -1"
      ]
     },
     "execution_count": 90,
     "metadata": {},
     "output_type": "execute_result"
    }
   ],
   "source": [
    "df_all_wednesday[\"cluster\"] = db.labels_\n",
    "df_all_wednesday.head()"
   ]
  },
  {
   "cell_type": "code",
   "execution_count": 91,
   "metadata": {},
   "outputs": [
    {
     "data": {
      "text/html": [
       "<iframe\n",
       "    scrolling=\"no\"\n",
       "    width=\"100%\"\n",
       "    height=\"545px\"\n",
       "    src=\"iframe_figures/figure_91.html\"\n",
       "    frameborder=\"0\"\n",
       "    allowfullscreen\n",
       "></iframe>\n"
      ]
     },
     "metadata": {},
     "output_type": "display_data"
    }
   ],
   "source": [
    "# Visualization clusters on a map\n",
    "\n",
    "fig = px.scatter_mapbox(\n",
    "        df_all_wednesday[df_all_wednesday.cluster != -1], \n",
    "        lat=\"Lat\", \n",
    "        lon=\"Lon\",\n",
    "        color=\"cluster\",\n",
    "        hover_name=\"cluster\",\n",
    "        mapbox_style=\"carto-positron\",\n",
    "        color_continuous_scale =\"viridis\",\n",
    "        zoom = 11\n",
    ")\n",
    "\n",
    "fig.show()"
   ]
  },
  {
   "cell_type": "markdown",
   "metadata": {},
   "source": [
    "For wednesday's day, i found 3 clusters in Manhattan. The first in Midtown (Midtown East,Murray Hill, Garment District and Gramercy), the second in Downtown at Greenwich Village and the third also in Downtown at Soho."
   ]
  },
  {
   "cell_type": "markdown",
   "metadata": {},
   "source": [
    "#### For thursday"
   ]
  },
  {
   "cell_type": "code",
   "execution_count": 92,
   "metadata": {},
   "outputs": [],
   "source": [
    "df_all_thursday = df.sample(10000, random_state=0)\n",
    "df_all_thursday = df_all_thursday[df_all_thursday['DayOfWeek']== 3]"
   ]
  },
  {
   "cell_type": "code",
   "execution_count": 93,
   "metadata": {},
   "outputs": [
    {
     "data": {
      "text/html": [
       "<div>\n",
       "<style scoped>\n",
       "    .dataframe tbody tr th:only-of-type {\n",
       "        vertical-align: middle;\n",
       "    }\n",
       "\n",
       "    .dataframe tbody tr th {\n",
       "        vertical-align: top;\n",
       "    }\n",
       "\n",
       "    .dataframe thead th {\n",
       "        text-align: right;\n",
       "    }\n",
       "</style>\n",
       "<table border=\"1\" class=\"dataframe\">\n",
       "  <thead>\n",
       "    <tr style=\"text-align: right;\">\n",
       "      <th></th>\n",
       "      <th>Lat</th>\n",
       "      <th>Lon</th>\n",
       "      <th>Hour</th>\n",
       "      <th>DayOfWeek</th>\n",
       "    </tr>\n",
       "  </thead>\n",
       "  <tbody>\n",
       "    <tr>\n",
       "      <th>160769</th>\n",
       "      <td>40.6450</td>\n",
       "      <td>-73.7819</td>\n",
       "      <td>13</td>\n",
       "      <td>3</td>\n",
       "    </tr>\n",
       "    <tr>\n",
       "      <th>48518</th>\n",
       "      <td>40.7560</td>\n",
       "      <td>-73.9832</td>\n",
       "      <td>21</td>\n",
       "      <td>3</td>\n",
       "    </tr>\n",
       "    <tr>\n",
       "      <th>348950</th>\n",
       "      <td>40.7560</td>\n",
       "      <td>-73.9693</td>\n",
       "      <td>22</td>\n",
       "      <td>3</td>\n",
       "    </tr>\n",
       "    <tr>\n",
       "      <th>496295</th>\n",
       "      <td>40.7281</td>\n",
       "      <td>-73.8701</td>\n",
       "      <td>11</td>\n",
       "      <td>3</td>\n",
       "    </tr>\n",
       "    <tr>\n",
       "      <th>455826</th>\n",
       "      <td>40.7500</td>\n",
       "      <td>-74.0026</td>\n",
       "      <td>21</td>\n",
       "      <td>3</td>\n",
       "    </tr>\n",
       "  </tbody>\n",
       "</table>\n",
       "</div>"
      ],
      "text/plain": [
       "            Lat      Lon  Hour  DayOfWeek\n",
       "160769  40.6450 -73.7819    13          3\n",
       "48518   40.7560 -73.9832    21          3\n",
       "348950  40.7560 -73.9693    22          3\n",
       "496295  40.7281 -73.8701    11          3\n",
       "455826  40.7500 -74.0026    21          3"
      ]
     },
     "execution_count": 93,
     "metadata": {},
     "output_type": "execute_result"
    }
   ],
   "source": [
    "df_all_thursday.head()"
   ]
  },
  {
   "cell_type": "code",
   "execution_count": 94,
   "metadata": {},
   "outputs": [
    {
     "data": {
      "text/plain": [
       "(1509, 4)"
      ]
     },
     "execution_count": 94,
     "metadata": {},
     "output_type": "execute_result"
    }
   ],
   "source": [
    "df_all_thursday.shape"
   ]
  },
  {
   "cell_type": "code",
   "execution_count": 95,
   "metadata": {},
   "outputs": [
    {
     "name": "stdout",
     "output_type": "stream",
     "text": [
      "Creating numeric pipeline...\n",
      "... Done\n",
      "Creating categorical pipeline...\n",
      "... Done\n",
      "\n",
      "Preprocessing sur le train set...\n",
      "\n",
      "            Lat      Lon  Hour  DayOfWeek\n",
      "160769  40.6450 -73.7819    13          3\n",
      "48518   40.7560 -73.9832    21          3\n",
      "348950  40.7560 -73.9693    22          3\n",
      "496295  40.7281 -73.8701    11          3\n",
      "455826  40.7500 -74.0026    21          3\n",
      "\n",
      "...Done.\n",
      "\n",
      "[[-2.77009241  3.90163861 -0.34066159]\n",
      " [ 0.39568915 -0.16004072  1.10433724]\n",
      " [ 0.39568915  0.12042298  1.28496209]\n",
      " [-0.40003433  2.12200564 -0.70191129]\n",
      " [ 0.22456582 -0.55147926  1.10433724]]\n",
      "\n"
     ]
    }
   ],
   "source": [
    "# Create pipeline for numeric features\n",
    "\n",
    "print(\"Creating numeric pipeline...\")\n",
    "numeric_features = [0,1,2] \n",
    "numeric_transformer = Pipeline(steps=[ ('scaler', StandardScaler())])\n",
    "print(\"... Done\")\n",
    "\n",
    "# Create pipeline for categorical features\n",
    "\n",
    "print(\"Creating categorical pipeline...\")\n",
    "categorical_features = [3]\n",
    "categorical_transformer = Pipeline(\n",
    "    steps=[('encoder', OneHotEncoder(drop='first'))])\n",
    "print(\"... Done\")\n",
    "\n",
    "# Use ColumnTransformer\n",
    "\n",
    "preprocessor = ColumnTransformer(\n",
    "    transformers=[\n",
    "        ('num', numeric_transformer, numeric_features),\n",
    "        ('cat', categorical_transformer, categorical_features)  \n",
    "    ])\n",
    "\n",
    "# Preprocessings on dataset\n",
    "print()\n",
    "print(\"Preprocessing sur le train set...\")\n",
    "print()\n",
    "print(df_all_thursday.head())\n",
    "X = preprocessor.fit_transform(df_all_thursday)\n",
    "print()\n",
    "print('...Done.')\n",
    "print()\n",
    "print(X[0:5, :])\n",
    "print()"
   ]
  },
  {
   "cell_type": "code",
   "execution_count": 96,
   "metadata": {},
   "outputs": [
    {
     "data": {
      "text/plain": [
       "DBSCAN(eps=0.13, metric='manhattan', min_samples=12)"
      ]
     },
     "execution_count": 96,
     "metadata": {},
     "output_type": "execute_result"
    }
   ],
   "source": [
    "# Instanciate DBSCAN \n",
    "\n",
    "db = DBSCAN(eps=0.13, min_samples=12, metric=\"manhattan\")\n",
    "db.fit(X)"
   ]
  },
  {
   "cell_type": "code",
   "execution_count": 97,
   "metadata": {},
   "outputs": [
    {
     "data": {
      "text/plain": [
       "array([-1,  0,  1,  2])"
      ]
     },
     "execution_count": 97,
     "metadata": {},
     "output_type": "execute_result"
    }
   ],
   "source": [
    "np.unique(db.labels_)"
   ]
  },
  {
   "cell_type": "code",
   "execution_count": 98,
   "metadata": {},
   "outputs": [
    {
     "data": {
      "text/html": [
       "<div>\n",
       "<style scoped>\n",
       "    .dataframe tbody tr th:only-of-type {\n",
       "        vertical-align: middle;\n",
       "    }\n",
       "\n",
       "    .dataframe tbody tr th {\n",
       "        vertical-align: top;\n",
       "    }\n",
       "\n",
       "    .dataframe thead th {\n",
       "        text-align: right;\n",
       "    }\n",
       "</style>\n",
       "<table border=\"1\" class=\"dataframe\">\n",
       "  <thead>\n",
       "    <tr style=\"text-align: right;\">\n",
       "      <th></th>\n",
       "      <th>Lat</th>\n",
       "      <th>Lon</th>\n",
       "      <th>Hour</th>\n",
       "      <th>DayOfWeek</th>\n",
       "      <th>cluster</th>\n",
       "    </tr>\n",
       "  </thead>\n",
       "  <tbody>\n",
       "    <tr>\n",
       "      <th>160769</th>\n",
       "      <td>40.6450</td>\n",
       "      <td>-73.7819</td>\n",
       "      <td>13</td>\n",
       "      <td>3</td>\n",
       "      <td>-1</td>\n",
       "    </tr>\n",
       "    <tr>\n",
       "      <th>48518</th>\n",
       "      <td>40.7560</td>\n",
       "      <td>-73.9832</td>\n",
       "      <td>21</td>\n",
       "      <td>3</td>\n",
       "      <td>-1</td>\n",
       "    </tr>\n",
       "    <tr>\n",
       "      <th>348950</th>\n",
       "      <td>40.7560</td>\n",
       "      <td>-73.9693</td>\n",
       "      <td>22</td>\n",
       "      <td>3</td>\n",
       "      <td>-1</td>\n",
       "    </tr>\n",
       "    <tr>\n",
       "      <th>496295</th>\n",
       "      <td>40.7281</td>\n",
       "      <td>-73.8701</td>\n",
       "      <td>11</td>\n",
       "      <td>3</td>\n",
       "      <td>-1</td>\n",
       "    </tr>\n",
       "    <tr>\n",
       "      <th>455826</th>\n",
       "      <td>40.7500</td>\n",
       "      <td>-74.0026</td>\n",
       "      <td>21</td>\n",
       "      <td>3</td>\n",
       "      <td>-1</td>\n",
       "    </tr>\n",
       "  </tbody>\n",
       "</table>\n",
       "</div>"
      ],
      "text/plain": [
       "            Lat      Lon  Hour  DayOfWeek  cluster\n",
       "160769  40.6450 -73.7819    13          3       -1\n",
       "48518   40.7560 -73.9832    21          3       -1\n",
       "348950  40.7560 -73.9693    22          3       -1\n",
       "496295  40.7281 -73.8701    11          3       -1\n",
       "455826  40.7500 -74.0026    21          3       -1"
      ]
     },
     "execution_count": 98,
     "metadata": {},
     "output_type": "execute_result"
    }
   ],
   "source": [
    "df_all_thursday[\"cluster\"] = db.labels_\n",
    "df_all_thursday.head()"
   ]
  },
  {
   "cell_type": "code",
   "execution_count": 99,
   "metadata": {},
   "outputs": [
    {
     "data": {
      "text/html": [
       "<iframe\n",
       "    scrolling=\"no\"\n",
       "    width=\"100%\"\n",
       "    height=\"545px\"\n",
       "    src=\"iframe_figures/figure_99.html\"\n",
       "    frameborder=\"0\"\n",
       "    allowfullscreen\n",
       "></iframe>\n"
      ]
     },
     "metadata": {},
     "output_type": "display_data"
    }
   ],
   "source": [
    "# Visualization clusters on a map\n",
    "\n",
    "fig = px.scatter_mapbox(\n",
    "        df_all_thursday[df_all_thursday.cluster != -1], \n",
    "        lat=\"Lat\", \n",
    "        lon=\"Lon\",\n",
    "        color=\"cluster\",\n",
    "        hover_name=\"cluster\",\n",
    "        mapbox_style=\"carto-positron\",\n",
    "        color_continuous_scale =\"viridis\",\n",
    "        zoom = 12\n",
    ")\n",
    "\n",
    "fig.show()"
   ]
  },
  {
   "cell_type": "markdown",
   "metadata": {},
   "source": [
    "For thursday's day, i found 3 clusters in Manhattan. The first in Midtown East, the second in Gramercy and the third also in Gramercy."
   ]
  },
  {
   "cell_type": "markdown",
   "metadata": {},
   "source": [
    "#### For friday"
   ]
  },
  {
   "cell_type": "code",
   "execution_count": 100,
   "metadata": {},
   "outputs": [],
   "source": [
    "df_all_friday = df.sample(10000, random_state=0)\n",
    "df_all_friday = df_all_friday[df_all_friday['DayOfWeek']== 4]"
   ]
  },
  {
   "cell_type": "code",
   "execution_count": 101,
   "metadata": {},
   "outputs": [
    {
     "data": {
      "text/html": [
       "<div>\n",
       "<style scoped>\n",
       "    .dataframe tbody tr th:only-of-type {\n",
       "        vertical-align: middle;\n",
       "    }\n",
       "\n",
       "    .dataframe tbody tr th {\n",
       "        vertical-align: top;\n",
       "    }\n",
       "\n",
       "    .dataframe thead th {\n",
       "        text-align: right;\n",
       "    }\n",
       "</style>\n",
       "<table border=\"1\" class=\"dataframe\">\n",
       "  <thead>\n",
       "    <tr style=\"text-align: right;\">\n",
       "      <th></th>\n",
       "      <th>Lat</th>\n",
       "      <th>Lon</th>\n",
       "      <th>Hour</th>\n",
       "      <th>DayOfWeek</th>\n",
       "    </tr>\n",
       "  </thead>\n",
       "  <tbody>\n",
       "    <tr>\n",
       "      <th>169442</th>\n",
       "      <td>40.7076</td>\n",
       "      <td>-74.0101</td>\n",
       "      <td>13</td>\n",
       "      <td>4</td>\n",
       "    </tr>\n",
       "    <tr>\n",
       "      <th>349900</th>\n",
       "      <td>40.7171</td>\n",
       "      <td>-74.0144</td>\n",
       "      <td>2</td>\n",
       "      <td>4</td>\n",
       "    </tr>\n",
       "    <tr>\n",
       "      <th>232582</th>\n",
       "      <td>40.7843</td>\n",
       "      <td>-73.9769</td>\n",
       "      <td>16</td>\n",
       "      <td>4</td>\n",
       "    </tr>\n",
       "    <tr>\n",
       "      <th>352668</th>\n",
       "      <td>40.7127</td>\n",
       "      <td>-73.9411</td>\n",
       "      <td>11</td>\n",
       "      <td>4</td>\n",
       "    </tr>\n",
       "    <tr>\n",
       "      <th>90104</th>\n",
       "      <td>40.7253</td>\n",
       "      <td>-73.9780</td>\n",
       "      <td>17</td>\n",
       "      <td>4</td>\n",
       "    </tr>\n",
       "  </tbody>\n",
       "</table>\n",
       "</div>"
      ],
      "text/plain": [
       "            Lat      Lon  Hour  DayOfWeek\n",
       "169442  40.7076 -74.0101    13          4\n",
       "349900  40.7171 -74.0144     2          4\n",
       "232582  40.7843 -73.9769    16          4\n",
       "352668  40.7127 -73.9411    11          4\n",
       "90104   40.7253 -73.9780    17          4"
      ]
     },
     "execution_count": 101,
     "metadata": {},
     "output_type": "execute_result"
    }
   ],
   "source": [
    "df_all_friday.head()"
   ]
  },
  {
   "cell_type": "code",
   "execution_count": 102,
   "metadata": {},
   "outputs": [
    {
     "data": {
      "text/plain": [
       "(1573, 4)"
      ]
     },
     "execution_count": 102,
     "metadata": {},
     "output_type": "execute_result"
    }
   ],
   "source": [
    "df_all_friday.shape"
   ]
  },
  {
   "cell_type": "code",
   "execution_count": 103,
   "metadata": {},
   "outputs": [
    {
     "name": "stdout",
     "output_type": "stream",
     "text": [
      "Creating numeric pipeline...\n",
      "... Done\n",
      "Creating categorical pipeline...\n",
      "... Done\n",
      "\n",
      "Preprocessing sur le train set...\n",
      "\n",
      "            Lat      Lon  Hour  DayOfWeek\n",
      "169442  40.7076 -74.0101    13          4\n",
      "349900  40.7171 -74.0144     2          4\n",
      "232582  40.7843 -73.9769    16          4\n",
      "352668  40.7127 -73.9411    11          4\n",
      "90104   40.7253 -73.9780    17          4\n",
      "\n",
      "...Done.\n",
      "\n",
      "[[-0.99944652 -0.69784081 -0.33714938]\n",
      " [-0.71499739 -0.79344565 -2.24420914]\n",
      " [ 1.29710592  0.04031745  0.18295782]\n",
      " [-0.84674225  0.8362833  -0.68388752]\n",
      " [-0.46947288  0.0158604   0.35632689]]\n",
      "\n"
     ]
    }
   ],
   "source": [
    "# Create pipeline for numeric features\n",
    "\n",
    "print(\"Creating numeric pipeline...\")\n",
    "numeric_features = [0,1,2] \n",
    "numeric_transformer = Pipeline(steps=[ ('scaler', StandardScaler())])\n",
    "print(\"... Done\")\n",
    "\n",
    "# Create pipeline for categorical features\n",
    "\n",
    "print(\"Creating categorical pipeline...\")\n",
    "categorical_features = [3]\n",
    "categorical_transformer = Pipeline(\n",
    "    steps=[('encoder', OneHotEncoder(drop='first'))])\n",
    "print(\"... Done\")\n",
    "\n",
    "# Use ColumnTransformer\n",
    "\n",
    "preprocessor = ColumnTransformer(\n",
    "    transformers=[\n",
    "        ('num', numeric_transformer, numeric_features),\n",
    "        ('cat', categorical_transformer, categorical_features)  \n",
    "    ])\n",
    "\n",
    "# Preprocessings on dataset\n",
    "print()\n",
    "print(\"Preprocessing sur le train set...\")\n",
    "print()\n",
    "print(df_all_friday.head())\n",
    "X = preprocessor.fit_transform(df_all_friday)\n",
    "print()\n",
    "print('...Done.')\n",
    "print()\n",
    "print(X[0:5, :])\n",
    "print()"
   ]
  },
  {
   "cell_type": "code",
   "execution_count": 104,
   "metadata": {},
   "outputs": [
    {
     "data": {
      "text/plain": [
       "DBSCAN(eps=0.2, metric='manhattan', min_samples=17)"
      ]
     },
     "execution_count": 104,
     "metadata": {},
     "output_type": "execute_result"
    }
   ],
   "source": [
    "# Instanciate DBSCAN \n",
    "\n",
    "db = DBSCAN(eps=0.2, min_samples=17, metric=\"manhattan\")\n",
    "db.fit(X)"
   ]
  },
  {
   "cell_type": "code",
   "execution_count": 105,
   "metadata": {},
   "outputs": [
    {
     "data": {
      "text/plain": [
       "array([-1,  0,  1])"
      ]
     },
     "execution_count": 105,
     "metadata": {},
     "output_type": "execute_result"
    }
   ],
   "source": [
    "np.unique(db.labels_)"
   ]
  },
  {
   "cell_type": "code",
   "execution_count": 106,
   "metadata": {},
   "outputs": [
    {
     "data": {
      "text/html": [
       "<div>\n",
       "<style scoped>\n",
       "    .dataframe tbody tr th:only-of-type {\n",
       "        vertical-align: middle;\n",
       "    }\n",
       "\n",
       "    .dataframe tbody tr th {\n",
       "        vertical-align: top;\n",
       "    }\n",
       "\n",
       "    .dataframe thead th {\n",
       "        text-align: right;\n",
       "    }\n",
       "</style>\n",
       "<table border=\"1\" class=\"dataframe\">\n",
       "  <thead>\n",
       "    <tr style=\"text-align: right;\">\n",
       "      <th></th>\n",
       "      <th>Lat</th>\n",
       "      <th>Lon</th>\n",
       "      <th>Hour</th>\n",
       "      <th>DayOfWeek</th>\n",
       "      <th>cluster</th>\n",
       "    </tr>\n",
       "  </thead>\n",
       "  <tbody>\n",
       "    <tr>\n",
       "      <th>169442</th>\n",
       "      <td>40.7076</td>\n",
       "      <td>-74.0101</td>\n",
       "      <td>13</td>\n",
       "      <td>4</td>\n",
       "      <td>-1</td>\n",
       "    </tr>\n",
       "    <tr>\n",
       "      <th>349900</th>\n",
       "      <td>40.7171</td>\n",
       "      <td>-74.0144</td>\n",
       "      <td>2</td>\n",
       "      <td>4</td>\n",
       "      <td>-1</td>\n",
       "    </tr>\n",
       "    <tr>\n",
       "      <th>232582</th>\n",
       "      <td>40.7843</td>\n",
       "      <td>-73.9769</td>\n",
       "      <td>16</td>\n",
       "      <td>4</td>\n",
       "      <td>-1</td>\n",
       "    </tr>\n",
       "    <tr>\n",
       "      <th>352668</th>\n",
       "      <td>40.7127</td>\n",
       "      <td>-73.9411</td>\n",
       "      <td>11</td>\n",
       "      <td>4</td>\n",
       "      <td>-1</td>\n",
       "    </tr>\n",
       "    <tr>\n",
       "      <th>90104</th>\n",
       "      <td>40.7253</td>\n",
       "      <td>-73.9780</td>\n",
       "      <td>17</td>\n",
       "      <td>4</td>\n",
       "      <td>-1</td>\n",
       "    </tr>\n",
       "  </tbody>\n",
       "</table>\n",
       "</div>"
      ],
      "text/plain": [
       "            Lat      Lon  Hour  DayOfWeek  cluster\n",
       "169442  40.7076 -74.0101    13          4       -1\n",
       "349900  40.7171 -74.0144     2          4       -1\n",
       "232582  40.7843 -73.9769    16          4       -1\n",
       "352668  40.7127 -73.9411    11          4       -1\n",
       "90104   40.7253 -73.9780    17          4       -1"
      ]
     },
     "execution_count": 106,
     "metadata": {},
     "output_type": "execute_result"
    }
   ],
   "source": [
    "df_all_friday[\"cluster\"] = db.labels_\n",
    "df_all_friday.head()"
   ]
  },
  {
   "cell_type": "code",
   "execution_count": 107,
   "metadata": {},
   "outputs": [
    {
     "data": {
      "text/html": [
       "<iframe\n",
       "    scrolling=\"no\"\n",
       "    width=\"100%\"\n",
       "    height=\"545px\"\n",
       "    src=\"iframe_figures/figure_107.html\"\n",
       "    frameborder=\"0\"\n",
       "    allowfullscreen\n",
       "></iframe>\n"
      ]
     },
     "metadata": {},
     "output_type": "display_data"
    }
   ],
   "source": [
    "# Visualization clusters on a map\n",
    "\n",
    "fig = px.scatter_mapbox(\n",
    "        df_all_friday[df_all_friday.cluster != -1], \n",
    "        lat=\"Lat\", \n",
    "        lon=\"Lon\",\n",
    "        color=\"cluster\",\n",
    "        hover_name=\"cluster\",\n",
    "        mapbox_style=\"carto-positron\",\n",
    "        color_continuous_scale =\"viridis\",\n",
    "        zoom = 12\n",
    ")\n",
    "\n",
    "fig.show()"
   ]
  },
  {
   "cell_type": "markdown",
   "metadata": {},
   "source": [
    "For friday's day, i found 2 clusters in Manhattan. The first in Midtown East and the second in West village "
   ]
  },
  {
   "cell_type": "markdown",
   "metadata": {},
   "source": [
    "#### For saturday"
   ]
  },
  {
   "cell_type": "code",
   "execution_count": 108,
   "metadata": {},
   "outputs": [],
   "source": [
    "df_all_saturday = df.sample(10000, random_state=0)\n",
    "df_all_saturday = df_all_saturday[df_all_saturday['DayOfWeek']== 5]"
   ]
  },
  {
   "cell_type": "code",
   "execution_count": 109,
   "metadata": {},
   "outputs": [
    {
     "data": {
      "text/html": [
       "<div>\n",
       "<style scoped>\n",
       "    .dataframe tbody tr th:only-of-type {\n",
       "        vertical-align: middle;\n",
       "    }\n",
       "\n",
       "    .dataframe tbody tr th {\n",
       "        vertical-align: top;\n",
       "    }\n",
       "\n",
       "    .dataframe thead th {\n",
       "        text-align: right;\n",
       "    }\n",
       "</style>\n",
       "<table border=\"1\" class=\"dataframe\">\n",
       "  <thead>\n",
       "    <tr style=\"text-align: right;\">\n",
       "      <th></th>\n",
       "      <th>Lat</th>\n",
       "      <th>Lon</th>\n",
       "      <th>Hour</th>\n",
       "      <th>DayOfWeek</th>\n",
       "    </tr>\n",
       "  </thead>\n",
       "  <tbody>\n",
       "    <tr>\n",
       "      <th>239000</th>\n",
       "      <td>40.7475</td>\n",
       "      <td>-74.0089</td>\n",
       "      <td>23</td>\n",
       "      <td>5</td>\n",
       "    </tr>\n",
       "    <tr>\n",
       "      <th>512706</th>\n",
       "      <td>40.7475</td>\n",
       "      <td>-73.9820</td>\n",
       "      <td>0</td>\n",
       "      <td>5</td>\n",
       "    </tr>\n",
       "    <tr>\n",
       "      <th>422568</th>\n",
       "      <td>40.7685</td>\n",
       "      <td>-73.9847</td>\n",
       "      <td>23</td>\n",
       "      <td>5</td>\n",
       "    </tr>\n",
       "    <tr>\n",
       "      <th>364300</th>\n",
       "      <td>40.7273</td>\n",
       "      <td>-74.0017</td>\n",
       "      <td>15</td>\n",
       "      <td>5</td>\n",
       "    </tr>\n",
       "    <tr>\n",
       "      <th>308670</th>\n",
       "      <td>40.7306</td>\n",
       "      <td>-73.9862</td>\n",
       "      <td>17</td>\n",
       "      <td>5</td>\n",
       "    </tr>\n",
       "  </tbody>\n",
       "</table>\n",
       "</div>"
      ],
      "text/plain": [
       "            Lat      Lon  Hour  DayOfWeek\n",
       "239000  40.7475 -74.0089    23          5\n",
       "512706  40.7475 -73.9820     0          5\n",
       "422568  40.7685 -73.9847    23          5\n",
       "364300  40.7273 -74.0017    15          5\n",
       "308670  40.7306 -73.9862    17          5"
      ]
     },
     "execution_count": 109,
     "metadata": {},
     "output_type": "execute_result"
    }
   ],
   "source": [
    "df_all_saturday.head()"
   ]
  },
  {
   "cell_type": "code",
   "execution_count": 110,
   "metadata": {},
   "outputs": [
    {
     "data": {
      "text/plain": [
       "(1325, 4)"
      ]
     },
     "execution_count": 110,
     "metadata": {},
     "output_type": "execute_result"
    }
   ],
   "source": [
    "df_all_saturday.shape"
   ]
  },
  {
   "cell_type": "code",
   "execution_count": 111,
   "metadata": {},
   "outputs": [
    {
     "name": "stdout",
     "output_type": "stream",
     "text": [
      "Creating numeric pipeline...\n",
      "... Done\n",
      "Creating categorical pipeline...\n",
      "... Done\n",
      "\n",
      "Preprocessing sur le train set...\n",
      "\n",
      "            Lat      Lon  Hour  DayOfWeek\n",
      "239000  40.7475 -74.0089    23          5\n",
      "512706  40.7475 -73.9820     0          5\n",
      "422568  40.7685 -73.9847    23          5\n",
      "364300  40.7273 -74.0017    15          5\n",
      "308670  40.7306 -73.9862    17          5\n",
      "\n",
      "...Done.\n",
      "\n",
      "[[ 0.30971178 -0.63658196  1.19747928]\n",
      " [ 0.30971178 -0.05684711 -2.17433824]\n",
      " [ 0.8652213  -0.11503611  1.19747928]\n",
      " [-0.22463547 -0.4814113   0.02467318]\n",
      " [-0.13734112 -0.14736334  0.31787471]]\n",
      "\n"
     ]
    }
   ],
   "source": [
    "# Create pipeline for numeric features\n",
    "\n",
    "print(\"Creating numeric pipeline...\")\n",
    "numeric_features = [0,1,2] \n",
    "numeric_transformer = Pipeline(steps=[ ('scaler', StandardScaler())])\n",
    "print(\"... Done\")\n",
    "\n",
    "# Create pipeline for categorical features\n",
    "\n",
    "print(\"Creating categorical pipeline...\")\n",
    "categorical_features = [3]\n",
    "categorical_transformer = Pipeline(\n",
    "    steps=[('encoder', OneHotEncoder(drop='first'))])\n",
    "print(\"... Done\")\n",
    "\n",
    "# Use ColumnTransformer\n",
    "\n",
    "preprocessor = ColumnTransformer(\n",
    "    transformers=[\n",
    "        ('num', numeric_transformer, numeric_features),\n",
    "        ('cat', categorical_transformer, categorical_features)  \n",
    "    ])\n",
    "\n",
    "# Preprocessings on dataset\n",
    "print()\n",
    "print(\"Preprocessing sur le train set...\")\n",
    "print()\n",
    "print(df_all_saturday.head())\n",
    "X = preprocessor.fit_transform(df_all_saturday)\n",
    "print()\n",
    "print('...Done.')\n",
    "print()\n",
    "print(X[0:5, :])\n",
    "print()"
   ]
  },
  {
   "cell_type": "code",
   "execution_count": 112,
   "metadata": {},
   "outputs": [
    {
     "data": {
      "text/plain": [
       "DBSCAN(eps=0.2, metric='manhattan', min_samples=14)"
      ]
     },
     "execution_count": 112,
     "metadata": {},
     "output_type": "execute_result"
    }
   ],
   "source": [
    "# Instanciate DBSCAN \n",
    "\n",
    "db = DBSCAN(eps=0.2, min_samples=14, metric=\"manhattan\")\n",
    "db.fit(X)"
   ]
  },
  {
   "cell_type": "code",
   "execution_count": 113,
   "metadata": {},
   "outputs": [
    {
     "data": {
      "text/plain": [
       "array([-1,  0,  1])"
      ]
     },
     "execution_count": 113,
     "metadata": {},
     "output_type": "execute_result"
    }
   ],
   "source": [
    "np.unique(db.labels_)"
   ]
  },
  {
   "cell_type": "code",
   "execution_count": 114,
   "metadata": {},
   "outputs": [
    {
     "data": {
      "text/html": [
       "<div>\n",
       "<style scoped>\n",
       "    .dataframe tbody tr th:only-of-type {\n",
       "        vertical-align: middle;\n",
       "    }\n",
       "\n",
       "    .dataframe tbody tr th {\n",
       "        vertical-align: top;\n",
       "    }\n",
       "\n",
       "    .dataframe thead th {\n",
       "        text-align: right;\n",
       "    }\n",
       "</style>\n",
       "<table border=\"1\" class=\"dataframe\">\n",
       "  <thead>\n",
       "    <tr style=\"text-align: right;\">\n",
       "      <th></th>\n",
       "      <th>Lat</th>\n",
       "      <th>Lon</th>\n",
       "      <th>Hour</th>\n",
       "      <th>DayOfWeek</th>\n",
       "      <th>cluster</th>\n",
       "    </tr>\n",
       "  </thead>\n",
       "  <tbody>\n",
       "    <tr>\n",
       "      <th>239000</th>\n",
       "      <td>40.7475</td>\n",
       "      <td>-74.0089</td>\n",
       "      <td>23</td>\n",
       "      <td>5</td>\n",
       "      <td>-1</td>\n",
       "    </tr>\n",
       "    <tr>\n",
       "      <th>512706</th>\n",
       "      <td>40.7475</td>\n",
       "      <td>-73.9820</td>\n",
       "      <td>0</td>\n",
       "      <td>5</td>\n",
       "      <td>-1</td>\n",
       "    </tr>\n",
       "    <tr>\n",
       "      <th>422568</th>\n",
       "      <td>40.7685</td>\n",
       "      <td>-73.9847</td>\n",
       "      <td>23</td>\n",
       "      <td>5</td>\n",
       "      <td>-1</td>\n",
       "    </tr>\n",
       "    <tr>\n",
       "      <th>364300</th>\n",
       "      <td>40.7273</td>\n",
       "      <td>-74.0017</td>\n",
       "      <td>15</td>\n",
       "      <td>5</td>\n",
       "      <td>-1</td>\n",
       "    </tr>\n",
       "    <tr>\n",
       "      <th>308670</th>\n",
       "      <td>40.7306</td>\n",
       "      <td>-73.9862</td>\n",
       "      <td>17</td>\n",
       "      <td>5</td>\n",
       "      <td>-1</td>\n",
       "    </tr>\n",
       "  </tbody>\n",
       "</table>\n",
       "</div>"
      ],
      "text/plain": [
       "            Lat      Lon  Hour  DayOfWeek  cluster\n",
       "239000  40.7475 -74.0089    23          5       -1\n",
       "512706  40.7475 -73.9820     0          5       -1\n",
       "422568  40.7685 -73.9847    23          5       -1\n",
       "364300  40.7273 -74.0017    15          5       -1\n",
       "308670  40.7306 -73.9862    17          5       -1"
      ]
     },
     "execution_count": 114,
     "metadata": {},
     "output_type": "execute_result"
    }
   ],
   "source": [
    "df_all_saturday[\"cluster\"] = db.labels_\n",
    "df_all_saturday.head()"
   ]
  },
  {
   "cell_type": "code",
   "execution_count": 115,
   "metadata": {},
   "outputs": [
    {
     "data": {
      "text/html": [
       "<iframe\n",
       "    scrolling=\"no\"\n",
       "    width=\"100%\"\n",
       "    height=\"545px\"\n",
       "    src=\"iframe_figures/figure_115.html\"\n",
       "    frameborder=\"0\"\n",
       "    allowfullscreen\n",
       "></iframe>\n"
      ]
     },
     "metadata": {},
     "output_type": "display_data"
    }
   ],
   "source": [
    "# Visualization clusters on a map\n",
    "\n",
    "fig = px.scatter_mapbox(\n",
    "        df_all_saturday[df_all_saturday.cluster != -1], \n",
    "        lat=\"Lat\", \n",
    "        lon=\"Lon\",\n",
    "        color=\"cluster\",\n",
    "        hover_name=\"cluster\",\n",
    "        mapbox_style=\"carto-positron\",\n",
    "        color_continuous_scale =\"viridis\",\n",
    "        zoom = 11\n",
    ")\n",
    "\n",
    "fig.show()"
   ]
  },
  {
   "cell_type": "markdown",
   "metadata": {},
   "source": [
    "For saturday's day, i found 2 clusters in Manhattan. The first in Downtown North (West Village, Greenwich Village, Soho and Noho), the second at Meatpacking District."
   ]
  },
  {
   "cell_type": "markdown",
   "metadata": {},
   "source": [
    "#### For sunday"
   ]
  },
  {
   "cell_type": "code",
   "execution_count": 116,
   "metadata": {},
   "outputs": [],
   "source": [
    "df_all_sunday = df.sample(10000, random_state=0)\n",
    "df_all_sunday = df_all_sunday[df_all_sunday['DayOfWeek']== 6]"
   ]
  },
  {
   "cell_type": "code",
   "execution_count": 117,
   "metadata": {},
   "outputs": [
    {
     "data": {
      "text/html": [
       "<div>\n",
       "<style scoped>\n",
       "    .dataframe tbody tr th:only-of-type {\n",
       "        vertical-align: middle;\n",
       "    }\n",
       "\n",
       "    .dataframe tbody tr th {\n",
       "        vertical-align: top;\n",
       "    }\n",
       "\n",
       "    .dataframe thead th {\n",
       "        text-align: right;\n",
       "    }\n",
       "</style>\n",
       "<table border=\"1\" class=\"dataframe\">\n",
       "  <thead>\n",
       "    <tr style=\"text-align: right;\">\n",
       "      <th></th>\n",
       "      <th>Lat</th>\n",
       "      <th>Lon</th>\n",
       "      <th>Hour</th>\n",
       "      <th>DayOfWeek</th>\n",
       "    </tr>\n",
       "  </thead>\n",
       "  <tbody>\n",
       "    <tr>\n",
       "      <th>63031</th>\n",
       "      <td>40.7800</td>\n",
       "      <td>-73.9486</td>\n",
       "      <td>5</td>\n",
       "      <td>6</td>\n",
       "    </tr>\n",
       "    <tr>\n",
       "      <th>100482</th>\n",
       "      <td>40.7495</td>\n",
       "      <td>-73.9917</td>\n",
       "      <td>11</td>\n",
       "      <td>6</td>\n",
       "    </tr>\n",
       "    <tr>\n",
       "      <th>526979</th>\n",
       "      <td>40.7740</td>\n",
       "      <td>-73.8723</td>\n",
       "      <td>22</td>\n",
       "      <td>6</td>\n",
       "    </tr>\n",
       "    <tr>\n",
       "      <th>374098</th>\n",
       "      <td>40.7394</td>\n",
       "      <td>-73.9912</td>\n",
       "      <td>16</td>\n",
       "      <td>6</td>\n",
       "    </tr>\n",
       "    <tr>\n",
       "      <th>370963</th>\n",
       "      <td>40.7394</td>\n",
       "      <td>-74.0080</td>\n",
       "      <td>1</td>\n",
       "      <td>6</td>\n",
       "    </tr>\n",
       "  </tbody>\n",
       "</table>\n",
       "</div>"
      ],
      "text/plain": [
       "            Lat      Lon  Hour  DayOfWeek\n",
       "63031   40.7800 -73.9486     5          6\n",
       "100482  40.7495 -73.9917    11          6\n",
       "526979  40.7740 -73.8723    22          6\n",
       "374098  40.7394 -73.9912    16          6\n",
       "370963  40.7394 -74.0080     1          6"
      ]
     },
     "execution_count": 117,
     "metadata": {},
     "output_type": "execute_result"
    }
   ],
   "source": [
    "df_all_sunday.head()"
   ]
  },
  {
   "cell_type": "code",
   "execution_count": 118,
   "metadata": {},
   "outputs": [
    {
     "data": {
      "text/plain": [
       "(914, 4)"
      ]
     },
     "execution_count": 118,
     "metadata": {},
     "output_type": "execute_result"
    }
   ],
   "source": [
    "df_all_sunday.shape"
   ]
  },
  {
   "cell_type": "code",
   "execution_count": 119,
   "metadata": {},
   "outputs": [
    {
     "name": "stdout",
     "output_type": "stream",
     "text": [
      "Creating numeric pipeline...\n",
      "... Done\n",
      "Creating categorical pipeline...\n",
      "... Done\n",
      "\n",
      "Preprocessing sur le train set...\n",
      "\n",
      "            Lat      Lon  Hour  DayOfWeek\n",
      "63031   40.7800 -73.9486     5          6\n",
      "100482  40.7495 -73.9917    11          6\n",
      "526979  40.7740 -73.8723    22          6\n",
      "374098  40.7394 -73.9912    16          6\n",
      "370963  40.7394 -74.0080     1          6\n",
      "\n",
      "...Done.\n",
      "\n",
      "[[ 1.17586168  0.45089613 -0.93215382]\n",
      " [ 0.38405773 -0.31557729 -0.09646123]\n",
      " [ 1.02009697  1.80778528  1.43564185]\n",
      " [ 0.12185379 -0.30668549  0.59994926]\n",
      " [ 0.12185379 -0.60545007 -1.48928222]]\n",
      "\n"
     ]
    }
   ],
   "source": [
    "# Create pipeline for numeric features\n",
    "\n",
    "print(\"Creating numeric pipeline...\")\n",
    "numeric_features = [0,1,2] \n",
    "numeric_transformer = Pipeline(steps=[ ('scaler', StandardScaler())])\n",
    "print(\"... Done\")\n",
    "\n",
    "# Create pipeline for categorical features\n",
    "\n",
    "print(\"Creating categorical pipeline...\")\n",
    "categorical_features = [3]\n",
    "categorical_transformer = Pipeline(\n",
    "    steps=[('encoder', OneHotEncoder(drop='first'))])\n",
    "print(\"... Done\")\n",
    "\n",
    "# Use ColumnTransformer\n",
    "\n",
    "preprocessor = ColumnTransformer(\n",
    "    transformers=[\n",
    "        ('num', numeric_transformer, numeric_features),\n",
    "        ('cat', categorical_transformer, categorical_features)  \n",
    "    ])\n",
    "\n",
    "# Preprocessings on dataset\n",
    "print()\n",
    "print(\"Preprocessing sur le train set...\")\n",
    "print()\n",
    "print(df_all_sunday.head())\n",
    "X = preprocessor.fit_transform(df_all_sunday)\n",
    "print()\n",
    "print('...Done.')\n",
    "print()\n",
    "print(X[0:5, :])\n",
    "print()"
   ]
  },
  {
   "cell_type": "code",
   "execution_count": 120,
   "metadata": {},
   "outputs": [
    {
     "data": {
      "text/plain": [
       "DBSCAN(eps=0.2, metric='manhattan', min_samples=25)"
      ]
     },
     "execution_count": 120,
     "metadata": {},
     "output_type": "execute_result"
    }
   ],
   "source": [
    "# Instanciate DBSCAN \n",
    "\n",
    "db = DBSCAN(eps=0.2, min_samples=25, metric=\"manhattan\")\n",
    "db.fit(X)"
   ]
  },
  {
   "cell_type": "code",
   "execution_count": 121,
   "metadata": {},
   "outputs": [
    {
     "data": {
      "text/plain": [
       "array([-1,  0])"
      ]
     },
     "execution_count": 121,
     "metadata": {},
     "output_type": "execute_result"
    }
   ],
   "source": [
    "np.unique(db.labels_)"
   ]
  },
  {
   "cell_type": "code",
   "execution_count": 122,
   "metadata": {},
   "outputs": [
    {
     "data": {
      "text/html": [
       "<div>\n",
       "<style scoped>\n",
       "    .dataframe tbody tr th:only-of-type {\n",
       "        vertical-align: middle;\n",
       "    }\n",
       "\n",
       "    .dataframe tbody tr th {\n",
       "        vertical-align: top;\n",
       "    }\n",
       "\n",
       "    .dataframe thead th {\n",
       "        text-align: right;\n",
       "    }\n",
       "</style>\n",
       "<table border=\"1\" class=\"dataframe\">\n",
       "  <thead>\n",
       "    <tr style=\"text-align: right;\">\n",
       "      <th></th>\n",
       "      <th>Lat</th>\n",
       "      <th>Lon</th>\n",
       "      <th>Hour</th>\n",
       "      <th>DayOfWeek</th>\n",
       "      <th>cluster</th>\n",
       "    </tr>\n",
       "  </thead>\n",
       "  <tbody>\n",
       "    <tr>\n",
       "      <th>63031</th>\n",
       "      <td>40.7800</td>\n",
       "      <td>-73.9486</td>\n",
       "      <td>5</td>\n",
       "      <td>6</td>\n",
       "      <td>-1</td>\n",
       "    </tr>\n",
       "    <tr>\n",
       "      <th>100482</th>\n",
       "      <td>40.7495</td>\n",
       "      <td>-73.9917</td>\n",
       "      <td>11</td>\n",
       "      <td>6</td>\n",
       "      <td>-1</td>\n",
       "    </tr>\n",
       "    <tr>\n",
       "      <th>526979</th>\n",
       "      <td>40.7740</td>\n",
       "      <td>-73.8723</td>\n",
       "      <td>22</td>\n",
       "      <td>6</td>\n",
       "      <td>-1</td>\n",
       "    </tr>\n",
       "    <tr>\n",
       "      <th>374098</th>\n",
       "      <td>40.7394</td>\n",
       "      <td>-73.9912</td>\n",
       "      <td>16</td>\n",
       "      <td>6</td>\n",
       "      <td>-1</td>\n",
       "    </tr>\n",
       "    <tr>\n",
       "      <th>370963</th>\n",
       "      <td>40.7394</td>\n",
       "      <td>-74.0080</td>\n",
       "      <td>1</td>\n",
       "      <td>6</td>\n",
       "      <td>-1</td>\n",
       "    </tr>\n",
       "  </tbody>\n",
       "</table>\n",
       "</div>"
      ],
      "text/plain": [
       "            Lat      Lon  Hour  DayOfWeek  cluster\n",
       "63031   40.7800 -73.9486     5          6       -1\n",
       "100482  40.7495 -73.9917    11          6       -1\n",
       "526979  40.7740 -73.8723    22          6       -1\n",
       "374098  40.7394 -73.9912    16          6       -1\n",
       "370963  40.7394 -74.0080     1          6       -1"
      ]
     },
     "execution_count": 122,
     "metadata": {},
     "output_type": "execute_result"
    }
   ],
   "source": [
    "df_all_sunday[\"cluster\"] = db.labels_\n",
    "df_all_sunday.head()"
   ]
  },
  {
   "cell_type": "code",
   "execution_count": 123,
   "metadata": {},
   "outputs": [
    {
     "data": {
      "text/html": [
       "<iframe\n",
       "    scrolling=\"no\"\n",
       "    width=\"100%\"\n",
       "    height=\"545px\"\n",
       "    src=\"iframe_figures/figure_123.html\"\n",
       "    frameborder=\"0\"\n",
       "    allowfullscreen\n",
       "></iframe>\n"
      ]
     },
     "metadata": {},
     "output_type": "display_data"
    }
   ],
   "source": [
    "# Visualization clusters on a map\n",
    "\n",
    "fig = px.scatter_mapbox(\n",
    "        df_all_sunday[df_all_sunday.cluster != -1], \n",
    "        lat=\"Lat\", \n",
    "        lon=\"Lon\",\n",
    "        color=\"cluster\",\n",
    "        hover_name=\"cluster\",\n",
    "        mapbox_style=\"carto-positron\",\n",
    "        color_continuous_scale =\"viridis\",\n",
    "        zoom = 12\n",
    ")\n",
    "\n",
    "fig.show()"
   ]
  },
  {
   "cell_type": "markdown",
   "metadata": {},
   "source": [
    "For sunday's day, i found 1 cluster in Manhattan in Downtown North (East Village, Noho and Lower East Side)"
   ]
  },
  {
   "cell_type": "markdown",
   "metadata": {},
   "source": [
    "## Part 6 : Conclusion"
   ]
  },
  {
   "cell_type": "markdown",
   "metadata": {},
   "source": [
    "Midtown in Manhattan seems to be the hot zone and especially during weekdays while weekends the hot zone is Downtown North.\n",
    "\n",
    "To be more precise and more detailed, this analysis must be continued for each day at each hour in order to be able to precisely target the area that needs more drivers.\n",
    "Ideally it would be good to refine by streets to better target with more data in sample, because a district in New York is extremely large."
   ]
  }
 ],
 "metadata": {
  "kernelspec": {
   "display_name": "Python 3",
   "language": "python",
   "name": "python3"
  },
  "language_info": {
   "codemirror_mode": {
    "name": "ipython",
    "version": 3
   },
   "file_extension": ".py",
   "mimetype": "text/x-python",
   "name": "python",
   "nbconvert_exporter": "python",
   "pygments_lexer": "ipython3",
   "version": "3.8.6"
  }
 },
 "nbformat": 4,
 "nbformat_minor": 4
}
